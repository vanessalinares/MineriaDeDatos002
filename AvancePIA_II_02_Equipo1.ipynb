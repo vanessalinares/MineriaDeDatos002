{
 "cells": [
  {
   "cell_type": "markdown",
   "metadata": {},
   "source": [
    "# Segundo Avance - PIA\n",
    "\n",
    "<b>Equipo: </b> 1 <br> \n",
    "<b>Grupo: </b> 002, Miércoles 18:00-21:00 <br> \n",
    "<b>Integrantes: </b> \n",
    " \n",
    "- 1794656 Félix Barreras Jesús Guillermo\n",
    "- 1723237 Linares Núñez Vanessa Stefanía\n",
    "- 1749744 Ramirez Vargas Dayan\n",
    "- 1803744 Rodríguez Estrada Erick Alejandro"
   ]
  },
  {
   "cell_type": "markdown",
   "metadata": {},
   "source": [
    "### Título de la Base de Datos \n",
    "\n",
    "[“World Happiness Report”](https://www.kaggle.com/unsdsn/world-happiness?select=2019.csv)\n"
   ]
  },
  {
   "cell_type": "markdown",
   "metadata": {},
   "source": [
    "### Descripción de los Datos\n",
    "\n",
    "El World Happiness 2019, que clasifica a 156 países por sus niveles de felicidad, fue lanzado por la Organización de las Naciones Unidas en un evento que celebra el Día Internacional de la Felicidad el 20 de marzo. Las puntuaciones y las clasificaciones de felicidad utilizan datos de la Encuesta Mundial de Gallup. Los puntajes se basan en las respuestas a la pregunta principal de evaluación de la vida que se hizo en la encuesta. Esta pregunta, conocida como la escalera de Cantril, pide a los encuestados que piensen en una escalera en la que la mejor vida posible para ellos sea un 10 y la peor vida posible sea un 0 y que califiquen sus propias vidas actuales en esa escala. Las puntuaciones provienen de muestras representativas a nivel nacional para los años 2013-2016 y utilizan las ponderaciones de Gallup para que las estimaciones sean representativas. \n",
    "\n",
    "Las columnas que siguen al puntaje de felicidad estiman en qué medida cada uno de los seis factores (producción económica, apoyo social, esperanza de vida, libertad, ausencia de corrupción y generosidad) contribuyen a hacer que las evaluaciones de vida sean más altas en cada país.\n",
    "\n",
    "A continuación se muestra el tipo de dato correspondiente a cada columna, así como las dimensiones de la base de datos. \n"
   ]
  },
  {
   "cell_type": "code",
   "execution_count": 5,
   "metadata": {},
   "outputs": [
    {
     "name": "stdout",
     "output_type": "stream",
     "text": [
      "Columna                 Tipo de Dato\n"
     ]
    },
    {
     "data": {
      "text/plain": [
       "Overall rank                      int64\n",
       "Country or region                object\n",
       "Score                           float64\n",
       "GDP per capita                  float64\n",
       "Social support                  float64\n",
       "Healthy life expectancy         float64\n",
       "Freedom to make life choices    float64\n",
       "Generosity                      float64\n",
       "Perceptions of corruption       float64\n",
       "dtype: object"
      ]
     },
     "execution_count": 5,
     "metadata": {},
     "output_type": "execute_result"
    }
   ],
   "source": [
    "print(\"Columna                 Tipo de Dato\")\n",
    "df.dtypes "
   ]
  },
  {
   "cell_type": "code",
   "execution_count": 6,
   "metadata": {},
   "outputs": [
    {
     "name": "stdout",
     "output_type": "stream",
     "text": [
      "Número de filas: 156 \n",
      "Número de columnas: 9\n"
     ]
    }
   ],
   "source": [
    "print(\"Número de filas:\", df.shape[0], \"\\nNúmero de columnas:\", df.shape[1])"
   ]
  },
  {
   "cell_type": "markdown",
   "metadata": {},
   "source": [
    "### Justificación del Uso de Datos\n",
    "\n",
    "Los datos presentan, como característica más importante para el equipo, ser internacionales, pues se incluyen 156 países. Es una base de datos lanzada por la Organización de las Naciones Unidas y tiene utilidad en una gran variedad de campos como lo son la economía, la psicología, la salud, entre muchas otras más. \n",
    "\n",
    "Los beneficios de trabajar con esta base de datos es que ésta cuenta con una gran variedad de datos numéricos, por lo que creemos que da oportunidad a ser analizada y trabajada con bastante libertad, así como dar respuesta a múltiples preguntas, según sea el caso. Además el hecho de contener a una gran cantidad de países hace que cualquier proyecto que resulte de ella sea de interés internacional. "
   ]
  },
  {
   "cell_type": "markdown",
   "metadata": {},
   "source": [
    "### Objetivos\n",
    "\n",
    " Objetivo principal: \n",
    " - Identificar los factores que más influyen en la puntuación de la felicidad   \n",
    " \n",
    "Objetivos secundarios:\n",
    "    \n",
    " - Comparar las puntuaciones de felicidad \n",
    " - Identificar a los países con la población más feliz\n",
    " - Identificar a los países con la población menos feliz\n",
    " - Aportar sugerencias para ser más feliz (acciones individuales) \n",
    " - Aportar sugerencias de mejora o de implementación a los gobiernos para incrementar los niveles de felcidad de \n",
    "     sus respectivas poblaciones\n"
   ]
  },
  {
   "cell_type": "markdown",
   "metadata": {},
   "source": [
    "### Preguntas de Interés\n",
    "\n",
    "a)¿Cuáles son aquellos factores que verdaderamente contribuyen a la felicidad?\n",
    "\n",
    "b)¿Qué acciones puede ejercer un gobierno para tener una población más feliz?\n",
    "\n",
    "c)¿A qué otros factores contribuye ser feliz?\n",
    "\n",
    "d)¿Qué países son los más felices y cuáles los menos felices?\n",
    "\n",
    "e)¿En qué rango de puntuación se encuentra la mayoría de los países?\n"
   ]
  },
  {
   "cell_type": "markdown",
   "metadata": {},
   "source": [
    "### Preparación de Datos"
   ]
  },
  {
   "cell_type": "code",
   "execution_count": 3,
   "metadata": {},
   "outputs": [
    {
     "data": {
      "text/html": [
       "        <script type=\"text/javascript\">\n",
       "        window.PlotlyConfig = {MathJaxConfig: 'local'};\n",
       "        if (window.MathJax) {MathJax.Hub.Config({SVG: {font: \"STIX-Web\"}});}\n",
       "        if (typeof require !== 'undefined') {\n",
       "        require.undef(\"plotly\");\n",
       "        requirejs.config({\n",
       "            paths: {\n",
       "                'plotly': ['https://cdn.plot.ly/plotly-latest.min']\n",
       "            }\n",
       "        });\n",
       "        require(['plotly'], function(Plotly) {\n",
       "            window._Plotly = Plotly;\n",
       "        });\n",
       "        }\n",
       "        </script>\n",
       "        "
      ]
     },
     "metadata": {},
     "output_type": "display_data"
    }
   ],
   "source": [
    "#Importación de librerías\n",
    "\n",
    "#Librerías para visualización\n",
    "import pandas as pd\n",
    "import numpy as np\n",
    "import json\n",
    "\n",
    "#Librerías para estadística\n",
    "import plotly as plot\n",
    "import plotly.express as px\n",
    "import seaborn as sns\n",
    "import matplotlib.pyplot as plt\n",
    "\n",
    "\n",
    "#Librerías para gráficas\n",
    "from plotly.offline import init_notebook_mode, iplot, plot\n",
    "import plotly as py\n",
    "init_notebook_mode(connected=True)\n",
    "import plotly.graph_objs as go\n"
   ]
  },
  {
   "cell_type": "code",
   "execution_count": 4,
   "metadata": {},
   "outputs": [],
   "source": [
    "#Importación base de datos\n",
    "df = pd.read_csv(\"uncleandata_happiness_2019.csv\")\n",
    "\n",
    "#NOTA: Recordar que para que el archivo csv pueda ser leído apropiadamente se debe de encontrar\n",
    "#      en la misma carpeta(direccion) que nuestro archivo de python"
   ]
  },
  {
   "cell_type": "markdown",
   "metadata": {},
   "source": [
    "### Visualización de los Datos"
   ]
  },
  {
   "cell_type": "markdown",
   "metadata": {},
   "source": [
    "A continuación se muestra la base de datos original, es decir sin manipulación"
   ]
  },
  {
   "cell_type": "code",
   "execution_count": 96,
   "metadata": {},
   "outputs": [
    {
     "data": {
      "text/html": [
       "<div>\n",
       "<style scoped>\n",
       "    .dataframe tbody tr th:only-of-type {\n",
       "        vertical-align: middle;\n",
       "    }\n",
       "\n",
       "    .dataframe tbody tr th {\n",
       "        vertical-align: top;\n",
       "    }\n",
       "\n",
       "    .dataframe thead th {\n",
       "        text-align: right;\n",
       "    }\n",
       "</style>\n",
       "<table border=\"1\" class=\"dataframe\">\n",
       "  <thead>\n",
       "    <tr style=\"text-align: right;\">\n",
       "      <th></th>\n",
       "      <th>Overall rank</th>\n",
       "      <th>Country or region</th>\n",
       "      <th>Score</th>\n",
       "      <th>GDP per capita</th>\n",
       "      <th>Social support</th>\n",
       "      <th>Healthy life expectancy</th>\n",
       "      <th>Freedom to make life choices</th>\n",
       "      <th>Generosity</th>\n",
       "      <th>Perceptions of corruption</th>\n",
       "    </tr>\n",
       "  </thead>\n",
       "  <tbody>\n",
       "    <tr>\n",
       "      <th>0</th>\n",
       "      <td>1</td>\n",
       "      <td>Finland</td>\n",
       "      <td>7.769</td>\n",
       "      <td>1.340</td>\n",
       "      <td>1.587</td>\n",
       "      <td>0.986</td>\n",
       "      <td>0.596</td>\n",
       "      <td>0.153</td>\n",
       "      <td>0.393</td>\n",
       "    </tr>\n",
       "    <tr>\n",
       "      <th>1</th>\n",
       "      <td>2</td>\n",
       "      <td>Denmark</td>\n",
       "      <td>7.600</td>\n",
       "      <td>1.383</td>\n",
       "      <td>1.573</td>\n",
       "      <td>0.996</td>\n",
       "      <td>0.592</td>\n",
       "      <td>0.252</td>\n",
       "      <td>0.410</td>\n",
       "    </tr>\n",
       "    <tr>\n",
       "      <th>2</th>\n",
       "      <td>3</td>\n",
       "      <td>Norway</td>\n",
       "      <td>7.554</td>\n",
       "      <td>1.488</td>\n",
       "      <td>1.582</td>\n",
       "      <td>1.028</td>\n",
       "      <td>0.603</td>\n",
       "      <td>0.271</td>\n",
       "      <td>0.341</td>\n",
       "    </tr>\n",
       "    <tr>\n",
       "      <th>3</th>\n",
       "      <td>4</td>\n",
       "      <td>Iceland</td>\n",
       "      <td>7.494</td>\n",
       "      <td>1.380</td>\n",
       "      <td>1.624</td>\n",
       "      <td>1.026</td>\n",
       "      <td>0.591</td>\n",
       "      <td>0.354</td>\n",
       "      <td>0.118</td>\n",
       "    </tr>\n",
       "    <tr>\n",
       "      <th>4</th>\n",
       "      <td>5</td>\n",
       "      <td>Netherlands</td>\n",
       "      <td>7.488</td>\n",
       "      <td>1.396</td>\n",
       "      <td>1.522</td>\n",
       "      <td>0.999</td>\n",
       "      <td>0.557</td>\n",
       "      <td>0.322</td>\n",
       "      <td>0.298</td>\n",
       "    </tr>\n",
       "    <tr>\n",
       "      <th>...</th>\n",
       "      <td>...</td>\n",
       "      <td>...</td>\n",
       "      <td>...</td>\n",
       "      <td>...</td>\n",
       "      <td>...</td>\n",
       "      <td>...</td>\n",
       "      <td>...</td>\n",
       "      <td>...</td>\n",
       "      <td>...</td>\n",
       "    </tr>\n",
       "    <tr>\n",
       "      <th>151</th>\n",
       "      <td>152</td>\n",
       "      <td>Rwanda</td>\n",
       "      <td>3.334</td>\n",
       "      <td>0.359</td>\n",
       "      <td>0.711</td>\n",
       "      <td>0.614</td>\n",
       "      <td>0.555</td>\n",
       "      <td>0.217</td>\n",
       "      <td>0.411</td>\n",
       "    </tr>\n",
       "    <tr>\n",
       "      <th>152</th>\n",
       "      <td>153</td>\n",
       "      <td>Tanzania</td>\n",
       "      <td>3.231</td>\n",
       "      <td>0.476</td>\n",
       "      <td>0.885</td>\n",
       "      <td>0.499</td>\n",
       "      <td>0.417</td>\n",
       "      <td>0.276</td>\n",
       "      <td>0.147</td>\n",
       "    </tr>\n",
       "    <tr>\n",
       "      <th>153</th>\n",
       "      <td>154</td>\n",
       "      <td>Afghanistan</td>\n",
       "      <td>3.203</td>\n",
       "      <td>0.350</td>\n",
       "      <td>0.517</td>\n",
       "      <td>0.361</td>\n",
       "      <td>0.000</td>\n",
       "      <td>0.158</td>\n",
       "      <td>0.025</td>\n",
       "    </tr>\n",
       "    <tr>\n",
       "      <th>154</th>\n",
       "      <td>155</td>\n",
       "      <td>Central African Republic</td>\n",
       "      <td>3.083</td>\n",
       "      <td>0.026</td>\n",
       "      <td>0.000</td>\n",
       "      <td>0.105</td>\n",
       "      <td>0.225</td>\n",
       "      <td>0.235</td>\n",
       "      <td>0.035</td>\n",
       "    </tr>\n",
       "    <tr>\n",
       "      <th>155</th>\n",
       "      <td>156</td>\n",
       "      <td>South Sudan</td>\n",
       "      <td>2.853</td>\n",
       "      <td>0.306</td>\n",
       "      <td>0.575</td>\n",
       "      <td>0.295</td>\n",
       "      <td>0.010</td>\n",
       "      <td>0.202</td>\n",
       "      <td>0.091</td>\n",
       "    </tr>\n",
       "  </tbody>\n",
       "</table>\n",
       "<p>156 rows × 9 columns</p>\n",
       "</div>"
      ],
      "text/plain": [
       "     Overall rank         Country or region  Score  GDP per capita  \\\n",
       "0               1                   Finland  7.769           1.340   \n",
       "1               2                   Denmark  7.600           1.383   \n",
       "2               3                    Norway  7.554           1.488   \n",
       "3               4                   Iceland  7.494           1.380   \n",
       "4               5               Netherlands  7.488           1.396   \n",
       "..            ...                       ...    ...             ...   \n",
       "151           152                    Rwanda  3.334           0.359   \n",
       "152           153                  Tanzania  3.231           0.476   \n",
       "153           154               Afghanistan  3.203           0.350   \n",
       "154           155  Central African Republic  3.083           0.026   \n",
       "155           156               South Sudan  2.853           0.306   \n",
       "\n",
       "     Social support  Healthy life expectancy  Freedom to make life choices  \\\n",
       "0             1.587                    0.986                         0.596   \n",
       "1             1.573                    0.996                         0.592   \n",
       "2             1.582                    1.028                         0.603   \n",
       "3             1.624                    1.026                         0.591   \n",
       "4             1.522                    0.999                         0.557   \n",
       "..              ...                      ...                           ...   \n",
       "151           0.711                    0.614                         0.555   \n",
       "152           0.885                    0.499                         0.417   \n",
       "153           0.517                    0.361                         0.000   \n",
       "154           0.000                    0.105                         0.225   \n",
       "155           0.575                    0.295                         0.010   \n",
       "\n",
       "     Generosity  Perceptions of corruption  \n",
       "0         0.153                      0.393  \n",
       "1         0.252                      0.410  \n",
       "2         0.271                      0.341  \n",
       "3         0.354                      0.118  \n",
       "4         0.322                      0.298  \n",
       "..          ...                        ...  \n",
       "151       0.217                      0.411  \n",
       "152       0.276                      0.147  \n",
       "153       0.158                      0.025  \n",
       "154       0.235                      0.035  \n",
       "155       0.202                      0.091  \n",
       "\n",
       "[156 rows x 9 columns]"
      ]
     },
     "execution_count": 96,
     "metadata": {},
     "output_type": "execute_result"
    }
   ],
   "source": [
    "df"
   ]
  },
  {
   "cell_type": "markdown",
   "metadata": {},
   "source": [
    "Los nombres de las columnas se encuentran en inglés y para facilitar la extracción de la información así como un mejor entendimiento se decidió traducirlos al español"
   ]
  },
  {
   "cell_type": "code",
   "execution_count": 8,
   "metadata": {},
   "outputs": [],
   "source": [
    "df.columns=['Clasificación_General','País_o_Región', 'Puntuación','PIB_per_Cápita', 'Apoyo_Social','Esperanza_de_Vida','Libertad','Generosidad','Ausencia_de_Corrupción']\n"
   ]
  },
  {
   "cell_type": "markdown",
   "metadata": {},
   "source": [
    "### Descripción Básica de las Columnas"
   ]
  },
  {
   "cell_type": "code",
   "execution_count": 9,
   "metadata": {},
   "outputs": [
    {
     "data": {
      "text/html": [
       "<div>\n",
       "<style scoped>\n",
       "    .dataframe tbody tr th:only-of-type {\n",
       "        vertical-align: middle;\n",
       "    }\n",
       "\n",
       "    .dataframe tbody tr th {\n",
       "        vertical-align: top;\n",
       "    }\n",
       "\n",
       "    .dataframe thead th {\n",
       "        text-align: right;\n",
       "    }\n",
       "</style>\n",
       "<table border=\"1\" class=\"dataframe\">\n",
       "  <thead>\n",
       "    <tr style=\"text-align: right;\">\n",
       "      <th></th>\n",
       "      <th>Clasificación_General</th>\n",
       "      <th>País_o_Región</th>\n",
       "      <th>Puntuación</th>\n",
       "      <th>PIB_per_Cápita</th>\n",
       "      <th>Apoyo_Social</th>\n",
       "      <th>Esperanza_de_Vida</th>\n",
       "      <th>Libertad</th>\n",
       "      <th>Generosidad</th>\n",
       "      <th>Ausencia_de_Corrupción</th>\n",
       "    </tr>\n",
       "  </thead>\n",
       "  <tbody>\n",
       "    <tr>\n",
       "      <th>0</th>\n",
       "      <td>1</td>\n",
       "      <td>Finland</td>\n",
       "      <td>7.769</td>\n",
       "      <td>1.340</td>\n",
       "      <td>1.587</td>\n",
       "      <td>0.986</td>\n",
       "      <td>0.596</td>\n",
       "      <td>0.153</td>\n",
       "      <td>0.393</td>\n",
       "    </tr>\n",
       "    <tr>\n",
       "      <th>1</th>\n",
       "      <td>2</td>\n",
       "      <td>Denmark</td>\n",
       "      <td>7.600</td>\n",
       "      <td>1.383</td>\n",
       "      <td>1.573</td>\n",
       "      <td>0.996</td>\n",
       "      <td>0.592</td>\n",
       "      <td>0.252</td>\n",
       "      <td>0.410</td>\n",
       "    </tr>\n",
       "    <tr>\n",
       "      <th>2</th>\n",
       "      <td>3</td>\n",
       "      <td>Norway</td>\n",
       "      <td>7.554</td>\n",
       "      <td>1.488</td>\n",
       "      <td>1.582</td>\n",
       "      <td>1.028</td>\n",
       "      <td>0.603</td>\n",
       "      <td>0.271</td>\n",
       "      <td>0.341</td>\n",
       "    </tr>\n",
       "    <tr>\n",
       "      <th>3</th>\n",
       "      <td>4</td>\n",
       "      <td>Iceland</td>\n",
       "      <td>7.494</td>\n",
       "      <td>1.380</td>\n",
       "      <td>1.624</td>\n",
       "      <td>1.026</td>\n",
       "      <td>0.591</td>\n",
       "      <td>0.354</td>\n",
       "      <td>0.118</td>\n",
       "    </tr>\n",
       "    <tr>\n",
       "      <th>4</th>\n",
       "      <td>5</td>\n",
       "      <td>Netherlands</td>\n",
       "      <td>7.488</td>\n",
       "      <td>1.396</td>\n",
       "      <td>1.522</td>\n",
       "      <td>0.999</td>\n",
       "      <td>0.557</td>\n",
       "      <td>0.322</td>\n",
       "      <td>0.298</td>\n",
       "    </tr>\n",
       "    <tr>\n",
       "      <th>...</th>\n",
       "      <td>...</td>\n",
       "      <td>...</td>\n",
       "      <td>...</td>\n",
       "      <td>...</td>\n",
       "      <td>...</td>\n",
       "      <td>...</td>\n",
       "      <td>...</td>\n",
       "      <td>...</td>\n",
       "      <td>...</td>\n",
       "    </tr>\n",
       "    <tr>\n",
       "      <th>151</th>\n",
       "      <td>152</td>\n",
       "      <td>Rwanda</td>\n",
       "      <td>3.334</td>\n",
       "      <td>0.359</td>\n",
       "      <td>0.711</td>\n",
       "      <td>0.614</td>\n",
       "      <td>0.555</td>\n",
       "      <td>0.217</td>\n",
       "      <td>0.411</td>\n",
       "    </tr>\n",
       "    <tr>\n",
       "      <th>152</th>\n",
       "      <td>153</td>\n",
       "      <td>Tanzania</td>\n",
       "      <td>3.231</td>\n",
       "      <td>0.476</td>\n",
       "      <td>0.885</td>\n",
       "      <td>0.499</td>\n",
       "      <td>0.417</td>\n",
       "      <td>0.276</td>\n",
       "      <td>0.147</td>\n",
       "    </tr>\n",
       "    <tr>\n",
       "      <th>153</th>\n",
       "      <td>154</td>\n",
       "      <td>Afghanistan</td>\n",
       "      <td>3.203</td>\n",
       "      <td>0.350</td>\n",
       "      <td>0.517</td>\n",
       "      <td>0.361</td>\n",
       "      <td>0.000</td>\n",
       "      <td>0.158</td>\n",
       "      <td>0.025</td>\n",
       "    </tr>\n",
       "    <tr>\n",
       "      <th>154</th>\n",
       "      <td>155</td>\n",
       "      <td>Central African Republic</td>\n",
       "      <td>3.083</td>\n",
       "      <td>0.026</td>\n",
       "      <td>0.000</td>\n",
       "      <td>0.105</td>\n",
       "      <td>0.225</td>\n",
       "      <td>0.235</td>\n",
       "      <td>0.035</td>\n",
       "    </tr>\n",
       "    <tr>\n",
       "      <th>155</th>\n",
       "      <td>156</td>\n",
       "      <td>South Sudan</td>\n",
       "      <td>2.853</td>\n",
       "      <td>0.306</td>\n",
       "      <td>0.575</td>\n",
       "      <td>0.295</td>\n",
       "      <td>0.010</td>\n",
       "      <td>0.202</td>\n",
       "      <td>0.091</td>\n",
       "    </tr>\n",
       "  </tbody>\n",
       "</table>\n",
       "<p>156 rows × 9 columns</p>\n",
       "</div>"
      ],
      "text/plain": [
       "     Clasificación_General             País_o_Región  Puntuación  \\\n",
       "0                        1                   Finland       7.769   \n",
       "1                        2                   Denmark       7.600   \n",
       "2                        3                    Norway       7.554   \n",
       "3                        4                   Iceland       7.494   \n",
       "4                        5               Netherlands       7.488   \n",
       "..                     ...                       ...         ...   \n",
       "151                    152                    Rwanda       3.334   \n",
       "152                    153                  Tanzania       3.231   \n",
       "153                    154               Afghanistan       3.203   \n",
       "154                    155  Central African Republic       3.083   \n",
       "155                    156               South Sudan       2.853   \n",
       "\n",
       "     PIB_per_Cápita  Apoyo_Social  Esperanza_de_Vida  Libertad  Generosidad  \\\n",
       "0             1.340         1.587              0.986     0.596        0.153   \n",
       "1             1.383         1.573              0.996     0.592        0.252   \n",
       "2             1.488         1.582              1.028     0.603        0.271   \n",
       "3             1.380         1.624              1.026     0.591        0.354   \n",
       "4             1.396         1.522              0.999     0.557        0.322   \n",
       "..              ...           ...                ...       ...          ...   \n",
       "151           0.359         0.711              0.614     0.555        0.217   \n",
       "152           0.476         0.885              0.499     0.417        0.276   \n",
       "153           0.350         0.517              0.361     0.000        0.158   \n",
       "154           0.026         0.000              0.105     0.225        0.235   \n",
       "155           0.306         0.575              0.295     0.010        0.202   \n",
       "\n",
       "     Ausencia_de_Corrupción  \n",
       "0                     0.393  \n",
       "1                     0.410  \n",
       "2                     0.341  \n",
       "3                     0.118  \n",
       "4                     0.298  \n",
       "..                      ...  \n",
       "151                   0.411  \n",
       "152                   0.147  \n",
       "153                   0.025  \n",
       "154                   0.035  \n",
       "155                   0.091  \n",
       "\n",
       "[156 rows x 9 columns]"
      ]
     },
     "execution_count": 9,
     "metadata": {},
     "output_type": "execute_result"
    }
   ],
   "source": [
    "df"
   ]
  },
  {
   "cell_type": "markdown",
   "metadata": {},
   "source": [
    "<b>Descripción: </b> \n",
    "\n",
    "1. Clasificación General:\n",
    "\n",
    "La columna de clasificación general indica el ranking de cada país, siendo el número 1 el más feliz de la muestra y el 156 el menos. Es de caracter númerico y va de 1 al 156 sin repetir. \n",
    "\n",
    "2. País o región:\n",
    "\n",
    "La columna de país o región indica el nombre del país que esta siendo evaluado en el idioma inglés.\n",
    "\n",
    "3. Puntuación:\n",
    "\n",
    "La suma de todos los factores siguientes da como resultado el puntaje de felicidad, que es el que se contiene en la columna de puntuación. Son número flotantes que van del 2.853 al 7.769.\n",
    "\n",
    "4. PIB per cápita, Apoyo Social, Esperanza de vida, Libertad, Generocidad, Percepcion de corrupción:\n",
    "\n",
    "Para explicar estas columnas primero es importante definir la distopía. \n",
    "\n",
    ">La distopía es un país imaginario que tiene a las personas menos felices del mundo. El propósito de establecer Distopía es tener un punto de referencia con el cual todos los países puedan ser comparados favorablemente (ningún país se desempeña peor que Distopía) en términos de cada una de las seis variables clave, permitiendo así que cada sub-barra tenga un ancho positivo. Las puntuaciones más bajas observadas para las seis variables clave, por lo tanto, caracterizan a la distopía. Dado que la vida sería muy desagradable en un país con los ingresos más bajos del mundo, la menor esperanza de vida, la menor generosidad, la mayor parte de la corrupción, la menor libertad y el menor apoyo social, se lo conoce como \"distopía\", en contraste con la utopía.\n",
    "\n",
    "Ahora bien, las columnas: PIB per cápita, Apoyo Social, Esperanza de vida, Libertad, Generosidad y Percepción de Corrupción describen en qué medida estos factores contribuyen a evaluar la felicidad en cada país tomando como punto de comparación los valores otorgados a Distopía. "
   ]
  },
  {
   "cell_type": "markdown",
   "metadata": {},
   "source": [
    "### Primera limpieza de datos\n",
    "\n",
    "Dado que el objetivo de nuestro trabajo es analizar cuales son aquellos factores que influyen en la felicidad de las personas, hemos decidido que no es necesario eliminar ninguna columna debido a que cada columna representa los diversos factores que analizaremos. Así mismo no existen datos nulos, por lo que se conserva la base de datos completa."
   ]
  },
  {
   "cell_type": "markdown",
   "metadata": {},
   "source": [
    "### Estadística Básica de los Datos"
   ]
  },
  {
   "cell_type": "code",
   "execution_count": 85,
   "metadata": {},
   "outputs": [
    {
     "data": {
      "text/html": [
       "<div>\n",
       "<style scoped>\n",
       "    .dataframe tbody tr th:only-of-type {\n",
       "        vertical-align: middle;\n",
       "    }\n",
       "\n",
       "    .dataframe tbody tr th {\n",
       "        vertical-align: top;\n",
       "    }\n",
       "\n",
       "    .dataframe thead th {\n",
       "        text-align: right;\n",
       "    }\n",
       "</style>\n",
       "<table border=\"1\" class=\"dataframe\">\n",
       "  <thead>\n",
       "    <tr style=\"text-align: right;\">\n",
       "      <th></th>\n",
       "      <th>Unnamed: 0.1</th>\n",
       "      <th>Unnamed: 0.1.1</th>\n",
       "      <th>Unnamed: 0.1.1.1</th>\n",
       "      <th>Clasificación_General</th>\n",
       "      <th>País_o_Región</th>\n",
       "      <th>Puntuación</th>\n",
       "      <th>PIB_per_Cápita</th>\n",
       "      <th>Apoyo_Social</th>\n",
       "      <th>Esperanza_de_Vida</th>\n",
       "      <th>Libertad</th>\n",
       "      <th>Generosidad</th>\n",
       "      <th>Ausencia_de_Corrupción</th>\n",
       "    </tr>\n",
       "  </thead>\n",
       "  <tbody>\n",
       "    <tr>\n",
       "      <th>0</th>\n",
       "      <td>0</td>\n",
       "      <td>0</td>\n",
       "      <td>0</td>\n",
       "      <td>1</td>\n",
       "      <td>Finland</td>\n",
       "      <td>7.769</td>\n",
       "      <td>1.340</td>\n",
       "      <td>1.587</td>\n",
       "      <td>0.986</td>\n",
       "      <td>0.596</td>\n",
       "      <td>0.153</td>\n",
       "      <td>0.393</td>\n",
       "    </tr>\n",
       "    <tr>\n",
       "      <th>1</th>\n",
       "      <td>1</td>\n",
       "      <td>1</td>\n",
       "      <td>1</td>\n",
       "      <td>2</td>\n",
       "      <td>Denmark</td>\n",
       "      <td>7.600</td>\n",
       "      <td>1.383</td>\n",
       "      <td>1.573</td>\n",
       "      <td>0.996</td>\n",
       "      <td>0.592</td>\n",
       "      <td>0.252</td>\n",
       "      <td>0.410</td>\n",
       "    </tr>\n",
       "    <tr>\n",
       "      <th>2</th>\n",
       "      <td>2</td>\n",
       "      <td>2</td>\n",
       "      <td>2</td>\n",
       "      <td>3</td>\n",
       "      <td>Norway</td>\n",
       "      <td>7.554</td>\n",
       "      <td>1.488</td>\n",
       "      <td>1.582</td>\n",
       "      <td>1.028</td>\n",
       "      <td>0.603</td>\n",
       "      <td>0.271</td>\n",
       "      <td>0.341</td>\n",
       "    </tr>\n",
       "    <tr>\n",
       "      <th>3</th>\n",
       "      <td>3</td>\n",
       "      <td>3</td>\n",
       "      <td>3</td>\n",
       "      <td>4</td>\n",
       "      <td>Iceland</td>\n",
       "      <td>7.494</td>\n",
       "      <td>1.380</td>\n",
       "      <td>1.624</td>\n",
       "      <td>1.026</td>\n",
       "      <td>0.591</td>\n",
       "      <td>0.354</td>\n",
       "      <td>0.118</td>\n",
       "    </tr>\n",
       "    <tr>\n",
       "      <th>4</th>\n",
       "      <td>4</td>\n",
       "      <td>4</td>\n",
       "      <td>4</td>\n",
       "      <td>5</td>\n",
       "      <td>Netherlands</td>\n",
       "      <td>7.488</td>\n",
       "      <td>1.396</td>\n",
       "      <td>1.522</td>\n",
       "      <td>0.999</td>\n",
       "      <td>0.557</td>\n",
       "      <td>0.322</td>\n",
       "      <td>0.298</td>\n",
       "    </tr>\n",
       "    <tr>\n",
       "      <th>...</th>\n",
       "      <td>...</td>\n",
       "      <td>...</td>\n",
       "      <td>...</td>\n",
       "      <td>...</td>\n",
       "      <td>...</td>\n",
       "      <td>...</td>\n",
       "      <td>...</td>\n",
       "      <td>...</td>\n",
       "      <td>...</td>\n",
       "      <td>...</td>\n",
       "      <td>...</td>\n",
       "      <td>...</td>\n",
       "    </tr>\n",
       "    <tr>\n",
       "      <th>151</th>\n",
       "      <td>151</td>\n",
       "      <td>151</td>\n",
       "      <td>151</td>\n",
       "      <td>152</td>\n",
       "      <td>Rwanda</td>\n",
       "      <td>3.334</td>\n",
       "      <td>0.359</td>\n",
       "      <td>0.711</td>\n",
       "      <td>0.614</td>\n",
       "      <td>0.555</td>\n",
       "      <td>0.217</td>\n",
       "      <td>0.411</td>\n",
       "    </tr>\n",
       "    <tr>\n",
       "      <th>152</th>\n",
       "      <td>152</td>\n",
       "      <td>152</td>\n",
       "      <td>152</td>\n",
       "      <td>153</td>\n",
       "      <td>Tanzania</td>\n",
       "      <td>3.231</td>\n",
       "      <td>0.476</td>\n",
       "      <td>0.885</td>\n",
       "      <td>0.499</td>\n",
       "      <td>0.417</td>\n",
       "      <td>0.276</td>\n",
       "      <td>0.147</td>\n",
       "    </tr>\n",
       "    <tr>\n",
       "      <th>153</th>\n",
       "      <td>153</td>\n",
       "      <td>153</td>\n",
       "      <td>153</td>\n",
       "      <td>154</td>\n",
       "      <td>Afghanistan</td>\n",
       "      <td>3.203</td>\n",
       "      <td>0.350</td>\n",
       "      <td>0.517</td>\n",
       "      <td>0.361</td>\n",
       "      <td>0.000</td>\n",
       "      <td>0.158</td>\n",
       "      <td>0.025</td>\n",
       "    </tr>\n",
       "    <tr>\n",
       "      <th>154</th>\n",
       "      <td>154</td>\n",
       "      <td>154</td>\n",
       "      <td>154</td>\n",
       "      <td>155</td>\n",
       "      <td>Central African Republic</td>\n",
       "      <td>3.083</td>\n",
       "      <td>0.026</td>\n",
       "      <td>0.000</td>\n",
       "      <td>0.105</td>\n",
       "      <td>0.225</td>\n",
       "      <td>0.235</td>\n",
       "      <td>0.035</td>\n",
       "    </tr>\n",
       "    <tr>\n",
       "      <th>155</th>\n",
       "      <td>155</td>\n",
       "      <td>155</td>\n",
       "      <td>155</td>\n",
       "      <td>156</td>\n",
       "      <td>South Sudan</td>\n",
       "      <td>2.853</td>\n",
       "      <td>0.306</td>\n",
       "      <td>0.575</td>\n",
       "      <td>0.295</td>\n",
       "      <td>0.010</td>\n",
       "      <td>0.202</td>\n",
       "      <td>0.091</td>\n",
       "    </tr>\n",
       "  </tbody>\n",
       "</table>\n",
       "<p>156 rows × 12 columns</p>\n",
       "</div>"
      ],
      "text/plain": [
       "     Unnamed: 0.1  Unnamed: 0.1.1  Unnamed: 0.1.1.1  Clasificación_General  \\\n",
       "0               0               0                 0                      1   \n",
       "1               1               1                 1                      2   \n",
       "2               2               2                 2                      3   \n",
       "3               3               3                 3                      4   \n",
       "4               4               4                 4                      5   \n",
       "..            ...             ...               ...                    ...   \n",
       "151           151             151               151                    152   \n",
       "152           152             152               152                    153   \n",
       "153           153             153               153                    154   \n",
       "154           154             154               154                    155   \n",
       "155           155             155               155                    156   \n",
       "\n",
       "                País_o_Región  Puntuación  PIB_per_Cápita  Apoyo_Social  \\\n",
       "0                     Finland       7.769           1.340         1.587   \n",
       "1                     Denmark       7.600           1.383         1.573   \n",
       "2                      Norway       7.554           1.488         1.582   \n",
       "3                     Iceland       7.494           1.380         1.624   \n",
       "4                 Netherlands       7.488           1.396         1.522   \n",
       "..                        ...         ...             ...           ...   \n",
       "151                    Rwanda       3.334           0.359         0.711   \n",
       "152                  Tanzania       3.231           0.476         0.885   \n",
       "153               Afghanistan       3.203           0.350         0.517   \n",
       "154  Central African Republic       3.083           0.026         0.000   \n",
       "155               South Sudan       2.853           0.306         0.575   \n",
       "\n",
       "     Esperanza_de_Vida  Libertad  Generosidad  Ausencia_de_Corrupción  \n",
       "0                0.986     0.596        0.153                   0.393  \n",
       "1                0.996     0.592        0.252                   0.410  \n",
       "2                1.028     0.603        0.271                   0.341  \n",
       "3                1.026     0.591        0.354                   0.118  \n",
       "4                0.999     0.557        0.322                   0.298  \n",
       "..                 ...       ...          ...                     ...  \n",
       "151              0.614     0.555        0.217                   0.411  \n",
       "152              0.499     0.417        0.276                   0.147  \n",
       "153              0.361     0.000        0.158                   0.025  \n",
       "154              0.105     0.225        0.235                   0.035  \n",
       "155              0.295     0.010        0.202                   0.091  \n",
       "\n",
       "[156 rows x 12 columns]"
      ]
     },
     "execution_count": 85,
     "metadata": {},
     "output_type": "execute_result"
    }
   ],
   "source": [
    "df"
   ]
  },
  {
   "cell_type": "markdown",
   "metadata": {},
   "source": [
    "<b>Valor mínimo y máximo en puntuación </b>  \n",
    "\n",
    "Con las funciones max y min podemos obtener el mayor puntaje obtenido, así como el menor."
   ]
  },
  {
   "cell_type": "code",
   "execution_count": 101,
   "metadata": {},
   "outputs": [
    {
     "data": {
      "text/plain": [
       "2.853"
      ]
     },
     "execution_count": 101,
     "metadata": {},
     "output_type": "execute_result"
    }
   ],
   "source": [
    "df['Puntuación'].min()"
   ]
  },
  {
   "cell_type": "code",
   "execution_count": 102,
   "metadata": {},
   "outputs": [
    {
     "data": {
      "text/plain": [
       "7.769"
      ]
     },
     "execution_count": 102,
     "metadata": {},
     "output_type": "execute_result"
    }
   ],
   "source": [
    "df['Puntuación'].max()"
   ]
  },
  {
   "cell_type": "markdown",
   "metadata": {},
   "source": [
    "Como podemos ver el menor puntaje obtenido es de 2.853 y el mayor puntaje obtenido es de 7.769, hay una diferencia bastante grande entre estos dos puntajes. También se puede destacar que el mayor puntaje no se acerca realmente al 10 (que sería el mayor puntaje posible de obtener), lo cual podría ser preocupante ya que no hay un país al cual se le pueda considerar como un país excelente en su nivel de felicidad."
   ]
  },
  {
   "cell_type": "markdown",
   "metadata": {},
   "source": [
    "#### Puntuación promedio\n",
    "\n",
    "A partir de la función mean podemos saber cual es el promedio de la puntuación obtenida en los 156 países de nuestra base de datos."
   ]
  },
  {
   "cell_type": "code",
   "execution_count": 104,
   "metadata": {},
   "outputs": [
    {
     "data": {
      "text/plain": [
       "5.407096153846153"
      ]
     },
     "execution_count": 104,
     "metadata": {},
     "output_type": "execute_result"
    }
   ],
   "source": [
    "df['Puntuación'].mean()"
   ]
  },
  {
   "cell_type": "markdown",
   "metadata": {},
   "source": [
    "El promedio de la Puntuación es de 5.407.\n",
    "\n",
    "Considerando que la puntuación va desde el 0 (siendo este el valor más bajo que se podría obtener) hasta el 10 (siendo este el valor más alto que se podría obtener), es relamente preocupante que el promedio de felicidad en estos 156 países del mundo sea un punto tan neutro. Se podría decir que, en promedio, los países en el mundo no son tan felices pero tampoco son tan infelices."
   ]
  },
  {
   "cell_type": "markdown",
   "metadata": {},
   "source": [
    "#### Correlación \n",
    "Debido a que nuestro objetivo principal es encontrar la respuesta a la pregunta: ¿cuáles son aquellos factores que verdaderamente contribuyen a la felicidad?, uno de los estadísticos que nos puede ayudar a dar respuesta es la correlacion y la covarianza entre los factores que se estan analizando (PIB per cápita, Apoyo social, Esperanza de vida, Libertad, Generosidad, Ausencia de corrupción) con la puntuación que reciben los países."
   ]
  },
  {
   "cell_type": "code",
   "execution_count": 10,
   "metadata": {},
   "outputs": [
    {
     "data": {
      "text/html": [
       "<div>\n",
       "<style scoped>\n",
       "    .dataframe tbody tr th:only-of-type {\n",
       "        vertical-align: middle;\n",
       "    }\n",
       "\n",
       "    .dataframe tbody tr th {\n",
       "        vertical-align: top;\n",
       "    }\n",
       "\n",
       "    .dataframe thead th {\n",
       "        text-align: right;\n",
       "    }\n",
       "</style>\n",
       "<table border=\"1\" class=\"dataframe\">\n",
       "  <thead>\n",
       "    <tr style=\"text-align: right;\">\n",
       "      <th></th>\n",
       "      <th>Clasificación_General</th>\n",
       "      <th>Puntuación</th>\n",
       "      <th>PIB_per_Cápita</th>\n",
       "      <th>Apoyo_Social</th>\n",
       "      <th>Esperanza_de_Vida</th>\n",
       "      <th>Libertad</th>\n",
       "      <th>Generosidad</th>\n",
       "      <th>Ausencia_de_Corrupción</th>\n",
       "    </tr>\n",
       "  </thead>\n",
       "  <tbody>\n",
       "    <tr>\n",
       "      <th>Clasificación_General</th>\n",
       "      <td>1.000000</td>\n",
       "      <td>-0.989096</td>\n",
       "      <td>-0.801947</td>\n",
       "      <td>-0.767465</td>\n",
       "      <td>-0.787411</td>\n",
       "      <td>-0.546606</td>\n",
       "      <td>-0.047993</td>\n",
       "      <td>-0.351959</td>\n",
       "    </tr>\n",
       "    <tr>\n",
       "      <th>Puntuación</th>\n",
       "      <td>-0.989096</td>\n",
       "      <td>1.000000</td>\n",
       "      <td>0.793883</td>\n",
       "      <td>0.777058</td>\n",
       "      <td>0.779883</td>\n",
       "      <td>0.566742</td>\n",
       "      <td>0.075824</td>\n",
       "      <td>0.385613</td>\n",
       "    </tr>\n",
       "    <tr>\n",
       "      <th>PIB_per_Cápita</th>\n",
       "      <td>-0.801947</td>\n",
       "      <td>0.793883</td>\n",
       "      <td>1.000000</td>\n",
       "      <td>0.754906</td>\n",
       "      <td>0.835462</td>\n",
       "      <td>0.379079</td>\n",
       "      <td>-0.079662</td>\n",
       "      <td>0.298920</td>\n",
       "    </tr>\n",
       "    <tr>\n",
       "      <th>Apoyo_Social</th>\n",
       "      <td>-0.767465</td>\n",
       "      <td>0.777058</td>\n",
       "      <td>0.754906</td>\n",
       "      <td>1.000000</td>\n",
       "      <td>0.719009</td>\n",
       "      <td>0.447333</td>\n",
       "      <td>-0.048126</td>\n",
       "      <td>0.181899</td>\n",
       "    </tr>\n",
       "    <tr>\n",
       "      <th>Esperanza_de_Vida</th>\n",
       "      <td>-0.787411</td>\n",
       "      <td>0.779883</td>\n",
       "      <td>0.835462</td>\n",
       "      <td>0.719009</td>\n",
       "      <td>1.000000</td>\n",
       "      <td>0.390395</td>\n",
       "      <td>-0.029511</td>\n",
       "      <td>0.295283</td>\n",
       "    </tr>\n",
       "    <tr>\n",
       "      <th>Libertad</th>\n",
       "      <td>-0.546606</td>\n",
       "      <td>0.566742</td>\n",
       "      <td>0.379079</td>\n",
       "      <td>0.447333</td>\n",
       "      <td>0.390395</td>\n",
       "      <td>1.000000</td>\n",
       "      <td>0.269742</td>\n",
       "      <td>0.438843</td>\n",
       "    </tr>\n",
       "    <tr>\n",
       "      <th>Generosidad</th>\n",
       "      <td>-0.047993</td>\n",
       "      <td>0.075824</td>\n",
       "      <td>-0.079662</td>\n",
       "      <td>-0.048126</td>\n",
       "      <td>-0.029511</td>\n",
       "      <td>0.269742</td>\n",
       "      <td>1.000000</td>\n",
       "      <td>0.326538</td>\n",
       "    </tr>\n",
       "    <tr>\n",
       "      <th>Ausencia_de_Corrupción</th>\n",
       "      <td>-0.351959</td>\n",
       "      <td>0.385613</td>\n",
       "      <td>0.298920</td>\n",
       "      <td>0.181899</td>\n",
       "      <td>0.295283</td>\n",
       "      <td>0.438843</td>\n",
       "      <td>0.326538</td>\n",
       "      <td>1.000000</td>\n",
       "    </tr>\n",
       "  </tbody>\n",
       "</table>\n",
       "</div>"
      ],
      "text/plain": [
       "                        Clasificación_General  Puntuación  PIB_per_Cápita  \\\n",
       "Clasificación_General                1.000000   -0.989096       -0.801947   \n",
       "Puntuación                          -0.989096    1.000000        0.793883   \n",
       "PIB_per_Cápita                      -0.801947    0.793883        1.000000   \n",
       "Apoyo_Social                        -0.767465    0.777058        0.754906   \n",
       "Esperanza_de_Vida                   -0.787411    0.779883        0.835462   \n",
       "Libertad                            -0.546606    0.566742        0.379079   \n",
       "Generosidad                         -0.047993    0.075824       -0.079662   \n",
       "Ausencia_de_Corrupción              -0.351959    0.385613        0.298920   \n",
       "\n",
       "                        Apoyo_Social  Esperanza_de_Vida  Libertad  \\\n",
       "Clasificación_General      -0.767465          -0.787411 -0.546606   \n",
       "Puntuación                  0.777058           0.779883  0.566742   \n",
       "PIB_per_Cápita              0.754906           0.835462  0.379079   \n",
       "Apoyo_Social                1.000000           0.719009  0.447333   \n",
       "Esperanza_de_Vida           0.719009           1.000000  0.390395   \n",
       "Libertad                    0.447333           0.390395  1.000000   \n",
       "Generosidad                -0.048126          -0.029511  0.269742   \n",
       "Ausencia_de_Corrupción      0.181899           0.295283  0.438843   \n",
       "\n",
       "                        Generosidad  Ausencia_de_Corrupción  \n",
       "Clasificación_General     -0.047993               -0.351959  \n",
       "Puntuación                 0.075824                0.385613  \n",
       "PIB_per_Cápita            -0.079662                0.298920  \n",
       "Apoyo_Social              -0.048126                0.181899  \n",
       "Esperanza_de_Vida         -0.029511                0.295283  \n",
       "Libertad                   0.269742                0.438843  \n",
       "Generosidad                1.000000                0.326538  \n",
       "Ausencia_de_Corrupción     0.326538                1.000000  "
      ]
     },
     "execution_count": 10,
     "metadata": {},
     "output_type": "execute_result"
    }
   ],
   "source": [
    "mat_corr=df.corr()\n",
    "mat_corr"
   ]
  },
  {
   "cell_type": "markdown",
   "metadata": {},
   "source": [
    "Al analizar la matriz de correlación nos enfocaremos en la columna(o fila) de \"Puntuación\", ya que nos interesa saber que factores estan mas correlacionados a la puntuación. Se podría decir que el <b>PIB per cápita</b>, el <b>Apoyo Social</b> y la <b>Esperanza de vida</b> estan fuertemente correlacionados con la Puntuación. El factor menos correlacionado con la Puntuación es la Generocidad."
   ]
  },
  {
   "cell_type": "markdown",
   "metadata": {},
   "source": [
    "### Gráficas\n",
    "\n",
    "#### Heat map "
   ]
  },
  {
   "cell_type": "code",
   "execution_count": 11,
   "metadata": {},
   "outputs": [
    {
     "data": {
      "image/png": "[encoded data removed]",
      "text/plain": [
       "<Figure size 1080x216 with 2 Axes>"
      ]
     },
     "metadata": {
      "needs_background": "light"
     },
     "output_type": "display_data"
    }
   ],
   "source": [
    "f,ax=plt.subplots(figsize = (15,3))\n",
    "sns.set(font_scale=1.5)\n",
    "sns.heatmap(mat_corr,annot= True,linewidths=0.5,fmt = \".2f\",cmap=\"YlGnBu\",ax=ax)\n",
    "plt.xticks(rotation=90)\n",
    "plt.yticks(rotation=0)\n",
    "plt.title('Mapa de correlación')\n",
    "plt.savefig('graph.png')\n",
    "plt.show()"
   ]
  },
  {
   "cell_type": "markdown",
   "metadata": {},
   "source": [
    "Gracias a esta gráfica de heatmap podemos ver de una forma mas atractiva y sencilla el nivel en que cada uno de los factores está correlacionado con la puntuación que cada país recibe"
   ]
  },
  {
   "cell_type": "markdown",
   "metadata": {},
   "source": [
    "#### Boxplot"
   ]
  },
  {
   "cell_type": "code",
   "execution_count": 139,
   "metadata": {
    "scrolled": true
   },
   "outputs": [
    {
     "data": {
      "image/png": "[encoded data removed]",
      "text/plain": [
       "<Figure size 432x288 with 1 Axes>"
      ]
     },
     "metadata": {},
     "output_type": "display_data"
    }
   ],
   "source": [
    "boxplot= df.boxplot(column='Puntuación')"
   ]
  },
  {
   "cell_type": "markdown",
   "metadata": {},
   "source": [
    "De este gráfico podemos observar la dispersión de los datos e identificar la mediana. Así como afirmar que la mayorpia de los países se encuentra alrededor de la mediana. "
   ]
  },
  {
   "cell_type": "markdown",
   "metadata": {},
   "source": [
    "#### Choropleth Map"
   ]
  },
  {
   "cell_type": "code",
   "execution_count": 12,
   "metadata": {},
   "outputs": [],
   "source": [
    "data = dict(\n",
    "        type = 'choropleth',\n",
    "        colorscale = 'Viridis',\n",
    "         marker_line_width=1,\n",
    "        locations = df['País_o_Región'],\n",
    "        locationmode = \"country names\",\n",
    "        z = df['Puntuación'],\n",
    "        text = df['País_o_Región'],\n",
    "        colorbar = {'title' : 'Nivel de felicidad'},\n",
    "        \n",
    "      )\n",
    "layout = dict(title = 'Mapa de felicidad',\n",
    "              geo = dict(projection = {'type':'mercator'}, showocean = False, showlakes = True, showrivers = True, )\n",
    "             )"
   ]
  },
  {
   "cell_type": "code",
   "execution_count": 13,
   "metadata": {},
   "outputs": [
    {
     "data": {
      "application/vnd.plotly.v1+json": {
       "config": {
        "linkText": "Export to plot.ly",
        "plotlyServerURL": "https://plot.ly",
        "showLink": false
       },
       "data": [
        {
         "colorbar": {
          "title": {
           "text": "Nivel de felicidad"
          }
         },
         "colorscale": [
          [
           0,
           "#440154"
          ],
          [
           0.1111111111111111,
           "#482878"
          ],
          [
           0.2222222222222222,
           "#3e4989"
          ],
          [
           0.3333333333333333,
           "#31688e"
          ],
          [
           0.4444444444444444,
           "#26828e"
          ],
          [
           0.5555555555555556,
           "#1f9e89"
          ],
          [
           0.6666666666666666,
           "#35b779"
          ],
          [
           0.7777777777777778,
           "#6ece58"
          ],
          [
           0.8888888888888888,
           "#b5de2b"
          ],
          [
           1,
           "#fde725"
          ]
         ],
         "locationmode": "country names",
         "locations": [
          "Finland",
          "Denmark",
          "Norway",
          "Iceland",
          "Netherlands",
          "Switzerland",
          "Sweden",
          "New Zealand",
          "Canada",
          "Austria",
          "Australia",
          "Costa Rica",
          "Israel",
          "Luxembourg",
          "United Kingdom",
          "Ireland",
          "Germany",
          "Belgium",
          "United States",
          "Czech Republic",
          "United Arab Emirates",
          "Malta",
          "Mexico",
          "France",
          "Taiwan",
          "Chile",
          "Guatemala",
          "Saudi Arabia",
          "Qatar",
          "Spain",
          "Panama",
          "Brazil",
          "Uruguay",
          "Singapore",
          "El Salvador",
          "Italy",
          "Bahrain",
          "Slovakia",
          "Trinidad & Tobago",
          "Poland",
          "Uzbekistan",
          "Lithuania",
          "Colombia",
          "Slovenia",
          "Nicaragua",
          "Kosovo",
          "Argentina",
          "Romania",
          "Cyprus",
          "Ecuador",
          "Kuwait",
          "Thailand",
          "Latvia",
          "South Korea",
          "Estonia",
          "Jamaica",
          "Mauritius",
          "Japan",
          "Honduras",
          "Kazakhstan",
          "Bolivia",
          "Hungary",
          "Paraguay",
          "Northern Cyprus",
          "Peru",
          "Portugal",
          "Pakistan",
          "Russia",
          "Philippines",
          "Serbia",
          "Moldova",
          "Libya",
          "Montenegro",
          "Tajikistan",
          "Croatia",
          "Hong Kong",
          "Dominican Republic",
          "Bosnia and Herzegovina",
          "Turkey",
          "Malaysia",
          "Belarus",
          "Greece",
          "Mongolia",
          "North Macedonia",
          "Nigeria",
          "Kyrgyzstan",
          "Turkmenistan",
          "Algeria",
          "Morocco",
          "Azerbaijan",
          "Lebanon",
          "Indonesia",
          "China",
          "Vietnam",
          "Bhutan",
          "Cameroon",
          "Bulgaria",
          "Ghana",
          "Ivory Coast",
          "Nepal",
          "Jordan",
          "Benin",
          "Congo (Brazzaville)",
          "Gabon",
          "Laos",
          "South Africa",
          "Albania",
          "Venezuela",
          "Cambodia",
          "Palestinian Territories",
          "Senegal",
          "Somalia",
          "Namibia",
          "Niger",
          "Burkina Faso",
          "Armenia",
          "Iran",
          "Guinea",
          "Georgia",
          "Gambia",
          "Kenya",
          "Mauritania",
          "Mozambique",
          "Tunisia",
          "Bangladesh",
          "Iraq",
          "Congo (Kinshasa)",
          "Mali",
          "Sierra Leone",
          "Sri Lanka",
          "Myanmar",
          "Chad",
          "Ukraine",
          "Ethiopia",
          "Swaziland",
          "Uganda",
          "Egypt",
          "Zambia",
          "Togo",
          "India",
          "Liberia",
          "Comoros",
          "Madagascar",
          "Lesotho",
          "Burundi",
          "Zimbabwe",
          "Haiti",
          "Botswana",
          "Syria",
          "Malawi",
          "Yemen",
          "Rwanda",
          "Tanzania",
          "Afghanistan",
          "Central African Republic",
          "South Sudan"
         ],
         "marker": {
          "line": {
           "width": 1
          }
         },
         "text": [
          "Finland",
          "Denmark",
          "Norway",
          "Iceland",
          "Netherlands",
          "Switzerland",
          "Sweden",
          "New Zealand",
          "Canada",
          "Austria",
          "Australia",
          "Costa Rica",
          "Israel",
          "Luxembourg",
          "United Kingdom",
          "Ireland",
          "Germany",
          "Belgium",
          "United States",
          "Czech Republic",
          "United Arab Emirates",
          "Malta",
          "Mexico",
          "France",
          "Taiwan",
          "Chile",
          "Guatemala",
          "Saudi Arabia",
          "Qatar",
          "Spain",
          "Panama",
          "Brazil",
          "Uruguay",
          "Singapore",
          "El Salvador",
          "Italy",
          "Bahrain",
          "Slovakia",
          "Trinidad & Tobago",
          "Poland",
          "Uzbekistan",
          "Lithuania",
          "Colombia",
          "Slovenia",
          "Nicaragua",
          "Kosovo",
          "Argentina",
          "Romania",
          "Cyprus",
          "Ecuador",
          "Kuwait",
          "Thailand",
          "Latvia",
          "South Korea",
          "Estonia",
          "Jamaica",
          "Mauritius",
          "Japan",
          "Honduras",
          "Kazakhstan",
          "Bolivia",
          "Hungary",
          "Paraguay",
          "Northern Cyprus",
          "Peru",
          "Portugal",
          "Pakistan",
          "Russia",
          "Philippines",
          "Serbia",
          "Moldova",
          "Libya",
          "Montenegro",
          "Tajikistan",
          "Croatia",
          "Hong Kong",
          "Dominican Republic",
          "Bosnia and Herzegovina",
          "Turkey",
          "Malaysia",
          "Belarus",
          "Greece",
          "Mongolia",
          "North Macedonia",
          "Nigeria",
          "Kyrgyzstan",
          "Turkmenistan",
          "Algeria",
          "Morocco",
          "Azerbaijan",
          "Lebanon",
          "Indonesia",
          "China",
          "Vietnam",
          "Bhutan",
          "Cameroon",
          "Bulgaria",
          "Ghana",
          "Ivory Coast",
          "Nepal",
          "Jordan",
          "Benin",
          "Congo (Brazzaville)",
          "Gabon",
          "Laos",
          "South Africa",
          "Albania",
          "Venezuela",
          "Cambodia",
          "Palestinian Territories",
          "Senegal",
          "Somalia",
          "Namibia",
          "Niger",
          "Burkina Faso",
          "Armenia",
          "Iran",
          "Guinea",
          "Georgia",
          "Gambia",
          "Kenya",
          "Mauritania",
          "Mozambique",
          "Tunisia",
          "Bangladesh",
          "Iraq",
          "Congo (Kinshasa)",
          "Mali",
          "Sierra Leone",
          "Sri Lanka",
          "Myanmar",
          "Chad",
          "Ukraine",
          "Ethiopia",
          "Swaziland",
          "Uganda",
          "Egypt",
          "Zambia",
          "Togo",
          "India",
          "Liberia",
          "Comoros",
          "Madagascar",
          "Lesotho",
          "Burundi",
          "Zimbabwe",
          "Haiti",
          "Botswana",
          "Syria",
          "Malawi",
          "Yemen",
          "Rwanda",
          "Tanzania",
          "Afghanistan",
          "Central African Republic",
          "South Sudan"
         ],
         "type": "choropleth",
         "z": [
          7.769,
          7.6,
          7.553999999999999,
          7.494,
          7.4879999999999995,
          7.48,
          7.343,
          7.307,
          7.278,
          7.246,
          7.228,
          7.167000000000001,
          7.138999999999999,
          7.09,
          7.053999999999999,
          7.021,
          6.985,
          6.922999999999999,
          6.892,
          6.852,
          6.825,
          6.726,
          6.595,
          6.5920000000000005,
          6.446000000000001,
          6.444,
          6.436,
          6.375,
          6.374,
          6.354,
          6.321000000000001,
          6.3,
          6.292999999999999,
          6.2620000000000005,
          6.252999999999999,
          6.223,
          6.199,
          6.1979999999999995,
          6.192,
          6.182,
          6.1739999999999995,
          6.149,
          6.125,
          6.117999999999999,
          6.105,
          6.1,
          6.086,
          6.07,
          6.046,
          6.028,
          6.021,
          6.007999999999999,
          5.94,
          5.895,
          5.893,
          5.89,
          5.888,
          5.886,
          5.86,
          5.809,
          5.779,
          5.757999999999999,
          5.742999999999999,
          5.718,
          5.697,
          5.693,
          5.653,
          5.648,
          5.631,
          5.603,
          5.529,
          5.525,
          5.523,
          5.4670000000000005,
          5.432,
          5.43,
          5.425,
          5.386,
          5.372999999999999,
          5.3389999999999995,
          5.3229999999999995,
          5.287000000000001,
          5.285,
          5.274,
          5.265,
          5.261,
          5.247000000000001,
          5.211,
          5.207999999999999,
          5.207999999999999,
          5.197,
          5.192,
          5.191,
          5.175,
          5.082,
          5.044,
          5.011,
          4.996,
          4.944,
          4.913,
          4.906000000000001,
          4.883,
          4.812,
          4.7989999999999995,
          4.796,
          4.7219999999999995,
          4.718999999999999,
          4.707,
          4.7,
          4.696000000000001,
          4.681,
          4.668,
          4.638999999999999,
          4.628,
          4.587,
          4.559,
          4.548,
          4.534,
          4.519,
          4.516,
          4.5089999999999995,
          4.49,
          4.466,
          4.461,
          4.456,
          4.437,
          4.418,
          4.39,
          4.374,
          4.3660000000000005,
          4.36,
          4.35,
          4.332,
          4.2860000000000005,
          4.212,
          4.189,
          4.166,
          4.107,
          4.085,
          4.015,
          3.975,
          3.9730000000000003,
          3.9330000000000003,
          3.802,
          3.775,
          3.6630000000000003,
          3.597,
          3.488,
          3.4619999999999997,
          3.41,
          3.38,
          3.3339999999999996,
          3.2310000000000003,
          3.2030000000000003,
          3.083,
          2.853
         ]
        }
       ],
       "layout": {
        "geo": {
         "projection": {
          "type": "mercator"
         },
         "showlakes": true,
         "showocean": false,
         "showrivers": true
        },
        "template": {
         "data": {
          "bar": [
           {
            "error_x": {
             "color": "#2a3f5f"
            },
            "error_y": {
             "color": "#2a3f5f"
            },
            "marker": {
             "line": {
              "color": "#E5ECF6",
              "width": 0.5
             }
            },
            "type": "bar"
           }
          ],
          "barpolar": [
           {
            "marker": {
             "line": {
              "color": "#E5ECF6",
              "width": 0.5
             }
            },
            "type": "barpolar"
           }
          ],
          "carpet": [
           {
            "aaxis": {
             "endlinecolor": "#2a3f5f",
             "gridcolor": "white",
             "linecolor": "white",
             "minorgridcolor": "white",
             "startlinecolor": "#2a3f5f"
            },
            "baxis": {
             "endlinecolor": "#2a3f5f",
             "gridcolor": "white",
             "linecolor": "white",
             "minorgridcolor": "white",
             "startlinecolor": "#2a3f5f"
            },
            "type": "carpet"
           }
          ],
          "choropleth": [
           {
            "colorbar": {
             "outlinewidth": 0,
             "ticks": ""
            },
            "type": "choropleth"
           }
          ],
          "contour": [
           {
            "colorbar": {
             "outlinewidth": 0,
             "ticks": ""
            },
            "colorscale": [
             [
              0,
              "#0d0887"
             ],
             [
              0.1111111111111111,
              "#46039f"
             ],
             [
              0.2222222222222222,
              "#7201a8"
             ],
             [
              0.3333333333333333,
              "#9c179e"
             ],
             [
              0.4444444444444444,
              "#bd3786"
             ],
             [
              0.5555555555555556,
              "#d8576b"
             ],
             [
              0.6666666666666666,
              "#ed7953"
             ],
             [
              0.7777777777777778,
              "#fb9f3a"
             ],
             [
              0.8888888888888888,
              "#fdca26"
             ],
             [
              1,
              "#f0f921"
             ]
            ],
            "type": "contour"
           }
          ],
          "contourcarpet": [
           {
            "colorbar": {
             "outlinewidth": 0,
             "ticks": ""
            },
            "type": "contourcarpet"
           }
          ],
          "heatmap": [
           {
            "colorbar": {
             "outlinewidth": 0,
             "ticks": ""
            },
            "colorscale": [
             [
              0,
              "#0d0887"
             ],
             [
              0.1111111111111111,
              "#46039f"
             ],
             [
              0.2222222222222222,
              "#7201a8"
             ],
             [
              0.3333333333333333,
              "#9c179e"
             ],
             [
              0.4444444444444444,
              "#bd3786"
             ],
             [
              0.5555555555555556,
              "#d8576b"
             ],
             [
              0.6666666666666666,
              "#ed7953"
             ],
             [
              0.7777777777777778,
              "#fb9f3a"
             ],
             [
              0.8888888888888888,
              "#fdca26"
             ],
             [
              1,
              "#f0f921"
             ]
            ],
            "type": "heatmap"
           }
          ],
          "heatmapgl": [
           {
            "colorbar": {
             "outlinewidth": 0,
             "ticks": ""
            },
            "colorscale": [
             [
              0,
              "#0d0887"
             ],
             [
              0.1111111111111111,
              "#46039f"
             ],
             [
              0.2222222222222222,
              "#7201a8"
             ],
             [
              0.3333333333333333,
              "#9c179e"
             ],
             [
              0.4444444444444444,
              "#bd3786"
             ],
             [
              0.5555555555555556,
              "#d8576b"
             ],
             [
              0.6666666666666666,
              "#ed7953"
             ],
             [
              0.7777777777777778,
              "#fb9f3a"
             ],
             [
              0.8888888888888888,
              "#fdca26"
             ],
             [
              1,
              "#f0f921"
             ]
            ],
            "type": "heatmapgl"
           }
          ],
          "histogram": [
           {
            "marker": {
             "colorbar": {
              "outlinewidth": 0,
              "ticks": ""
             }
            },
            "type": "histogram"
           }
          ],
          "histogram2d": [
           {
            "colorbar": {
             "outlinewidth": 0,
             "ticks": ""
            },
            "colorscale": [
             [
              0,
              "#0d0887"
             ],
             [
              0.1111111111111111,
              "#46039f"
             ],
             [
              0.2222222222222222,
              "#7201a8"
             ],
             [
              0.3333333333333333,
              "#9c179e"
             ],
             [
              0.4444444444444444,
              "#bd3786"
             ],
             [
              0.5555555555555556,
              "#d8576b"
             ],
             [
              0.6666666666666666,
              "#ed7953"
             ],
             [
              0.7777777777777778,
              "#fb9f3a"
             ],
             [
              0.8888888888888888,
              "#fdca26"
             ],
             [
              1,
              "#f0f921"
             ]
            ],
            "type": "histogram2d"
           }
          ],
          "histogram2dcontour": [
           {
            "colorbar": {
             "outlinewidth": 0,
             "ticks": ""
            },
            "colorscale": [
             [
              0,
              "#0d0887"
             ],
             [
              0.1111111111111111,
              "#46039f"
             ],
             [
              0.2222222222222222,
              "#7201a8"
             ],
             [
              0.3333333333333333,
              "#9c179e"
             ],
             [
              0.4444444444444444,
              "#bd3786"
             ],
             [
              0.5555555555555556,
              "#d8576b"
             ],
             [
              0.6666666666666666,
              "#ed7953"
             ],
             [
              0.7777777777777778,
              "#fb9f3a"
             ],
             [
              0.8888888888888888,
              "#fdca26"
             ],
             [
              1,
              "#f0f921"
             ]
            ],
            "type": "histogram2dcontour"
           }
          ],
          "mesh3d": [
           {
            "colorbar": {
             "outlinewidth": 0,
             "ticks": ""
            },
            "type": "mesh3d"
           }
          ],
          "parcoords": [
           {
            "line": {
             "colorbar": {
              "outlinewidth": 0,
              "ticks": ""
             }
            },
            "type": "parcoords"
           }
          ],
          "pie": [
           {
            "automargin": true,
            "type": "pie"
           }
          ],
          "scatter": [
           {
            "marker": {
             "colorbar": {
              "outlinewidth": 0,
              "ticks": ""
             }
            },
            "type": "scatter"
           }
          ],
          "scatter3d": [
           {
            "line": {
             "colorbar": {
              "outlinewidth": 0,
              "ticks": ""
             }
            },
            "marker": {
             "colorbar": {
              "outlinewidth": 0,
              "ticks": ""
             }
            },
            "type": "scatter3d"
           }
          ],
          "scattercarpet": [
           {
            "marker": {
             "colorbar": {
              "outlinewidth": 0,
              "ticks": ""
             }
            },
            "type": "scattercarpet"
           }
          ],
          "scattergeo": [
           {
            "marker": {
             "colorbar": {
              "outlinewidth": 0,
              "ticks": ""
             }
            },
            "type": "scattergeo"
           }
          ],
          "scattergl": [
           {
            "marker": {
             "colorbar": {
              "outlinewidth": 0,
              "ticks": ""
             }
            },
            "type": "scattergl"
           }
          ],
          "scattermapbox": [
           {
            "marker": {
             "colorbar": {
              "outlinewidth": 0,
              "ticks": ""
             }
            },
            "type": "scattermapbox"
           }
          ],
          "scatterpolar": [
           {
            "marker": {
             "colorbar": {
              "outlinewidth": 0,
              "ticks": ""
             }
            },
            "type": "scatterpolar"
           }
          ],
          "scatterpolargl": [
           {
            "marker": {
             "colorbar": {
              "outlinewidth": 0,
              "ticks": ""
             }
            },
            "type": "scatterpolargl"
           }
          ],
          "scatterternary": [
           {
            "marker": {
             "colorbar": {
              "outlinewidth": 0,
              "ticks": ""
             }
            },
            "type": "scatterternary"
           }
          ],
          "surface": [
           {
            "colorbar": {
             "outlinewidth": 0,
             "ticks": ""
            },
            "colorscale": [
             [
              0,
              "#0d0887"
             ],
             [
              0.1111111111111111,
              "#46039f"
             ],
             [
              0.2222222222222222,
              "#7201a8"
             ],
             [
              0.3333333333333333,
              "#9c179e"
             ],
             [
              0.4444444444444444,
              "#bd3786"
             ],
             [
              0.5555555555555556,
              "#d8576b"
             ],
             [
              0.6666666666666666,
              "#ed7953"
             ],
             [
              0.7777777777777778,
              "#fb9f3a"
             ],
             [
              0.8888888888888888,
              "#fdca26"
             ],
             [
              1,
              "#f0f921"
             ]
            ],
            "type": "surface"
           }
          ],
          "table": [
           {
            "cells": {
             "fill": {
              "color": "#EBF0F8"
             },
             "line": {
              "color": "white"
             }
            },
            "header": {
             "fill": {
              "color": "#C8D4E3"
             },
             "line": {
              "color": "white"
             }
            },
            "type": "table"
           }
          ]
         },
         "layout": {
          "annotationdefaults": {
           "arrowcolor": "#2a3f5f",
           "arrowhead": 0,
           "arrowwidth": 1
          },
          "autotypenumbers": "strict",
          "coloraxis": {
           "colorbar": {
            "outlinewidth": 0,
            "ticks": ""
           }
          },
          "colorscale": {
           "diverging": [
            [
             0,
             "#8e0152"
            ],
            [
             0.1,
             "#c51b7d"
            ],
            [
             0.2,
             "#de77ae"
            ],
            [
             0.3,
             "#f1b6da"
            ],
            [
             0.4,
             "#fde0ef"
            ],
            [
             0.5,
             "#f7f7f7"
            ],
            [
             0.6,
             "#e6f5d0"
            ],
            [
             0.7,
             "#b8e186"
            ],
            [
             0.8,
             "#7fbc41"
            ],
            [
             0.9,
             "#4d9221"
            ],
            [
             1,
             "#276419"
            ]
           ],
           "sequential": [
            [
             0,
             "#0d0887"
            ],
            [
             0.1111111111111111,
             "#46039f"
            ],
            [
             0.2222222222222222,
             "#7201a8"
            ],
            [
             0.3333333333333333,
             "#9c179e"
            ],
            [
             0.4444444444444444,
             "#bd3786"
            ],
            [
             0.5555555555555556,
             "#d8576b"
            ],
            [
             0.6666666666666666,
             "#ed7953"
            ],
            [
             0.7777777777777778,
             "#fb9f3a"
            ],
            [
             0.8888888888888888,
             "#fdca26"
            ],
            [
             1,
             "#f0f921"
            ]
           ],
           "sequentialminus": [
            [
             0,
             "#0d0887"
            ],
            [
             0.1111111111111111,
             "#46039f"
            ],
            [
             0.2222222222222222,
             "#7201a8"
            ],
            [
             0.3333333333333333,
             "#9c179e"
            ],
            [
             0.4444444444444444,
             "#bd3786"
            ],
            [
             0.5555555555555556,
             "#d8576b"
            ],
            [
             0.6666666666666666,
             "#ed7953"
            ],
            [
             0.7777777777777778,
             "#fb9f3a"
            ],
            [
             0.8888888888888888,
             "#fdca26"
            ],
            [
             1,
             "#f0f921"
            ]
           ]
          },
          "colorway": [
           "#636efa",
           "#EF553B",
           "#00cc96",
           "#ab63fa",
           "#FFA15A",
           "#19d3f3",
           "#FF6692",
           "#B6E880",
           "#FF97FF",
           "#FECB52"
          ],
          "font": {
           "color": "#2a3f5f"
          },
          "geo": {
           "bgcolor": "white",
           "lakecolor": "white",
           "landcolor": "#E5ECF6",
           "showlakes": true,
           "showland": true,
           "subunitcolor": "white"
          },
          "hoverlabel": {
           "align": "left"
          },
          "hovermode": "closest",
          "mapbox": {
           "style": "light"
          },
          "paper_bgcolor": "white",
          "plot_bgcolor": "#E5ECF6",
          "polar": {
           "angularaxis": {
            "gridcolor": "white",
            "linecolor": "white",
            "ticks": ""
           },
           "bgcolor": "#E5ECF6",
           "radialaxis": {
            "gridcolor": "white",
            "linecolor": "white",
            "ticks": ""
           }
          },
          "scene": {
           "xaxis": {
            "backgroundcolor": "#E5ECF6",
            "gridcolor": "white",
            "gridwidth": 2,
            "linecolor": "white",
            "showbackground": true,
            "ticks": "",
            "zerolinecolor": "white"
           },
           "yaxis": {
            "backgroundcolor": "#E5ECF6",
            "gridcolor": "white",
            "gridwidth": 2,
            "linecolor": "white",
            "showbackground": true,
            "ticks": "",
            "zerolinecolor": "white"
           },
           "zaxis": {
            "backgroundcolor": "#E5ECF6",
            "gridcolor": "white",
            "gridwidth": 2,
            "linecolor": "white",
            "showbackground": true,
            "ticks": "",
            "zerolinecolor": "white"
           }
          },
          "shapedefaults": {
           "line": {
            "color": "#2a3f5f"
           }
          },
          "ternary": {
           "aaxis": {
            "gridcolor": "white",
            "linecolor": "white",
            "ticks": ""
           },
           "baxis": {
            "gridcolor": "white",
            "linecolor": "white",
            "ticks": ""
           },
           "bgcolor": "#E5ECF6",
           "caxis": {
            "gridcolor": "white",
            "linecolor": "white",
            "ticks": ""
           }
          },
          "title": {
           "x": 0.05
          },
          "xaxis": {
           "automargin": true,
           "gridcolor": "white",
           "linecolor": "white",
           "ticks": "",
           "title": {
            "standoff": 15
           },
           "zerolinecolor": "white",
           "zerolinewidth": 2
          },
          "yaxis": {
           "automargin": true,
           "gridcolor": "white",
           "linecolor": "white",
           "ticks": "",
           "title": {
            "standoff": 15
           },
           "zerolinecolor": "white",
           "zerolinewidth": 2
          }
         }
        },
        "title": {
         "text": "Mapa de felicidad"
        }
       }
      },
      "text/html": [
       "<div>                            <div id=\"14e97870-815f-4967-a56a-3c4a74fefbad\" class=\"plotly-graph-div\" style=\"height:525px; width:100%;\"></div>            <script type=\"text/javascript\">                require([\"plotly\"], function(Plotly) {                    window.PLOTLYENV=window.PLOTLYENV || {};                                    if (document.getElementById(\"14e97870-815f-4967-a56a-3c4a74fefbad\")) {                    Plotly.newPlot(                        \"14e97870-815f-4967-a56a-3c4a74fefbad\",                        [{\"colorbar\": {\"title\": {\"text\": \"Nivel de felicidad\"}}, \"colorscale\": [[0.0, \"#440154\"], [0.1111111111111111, \"#482878\"], [0.2222222222222222, \"#3e4989\"], [0.3333333333333333, \"#31688e\"], [0.4444444444444444, \"#26828e\"], [0.5555555555555556, \"#1f9e89\"], [0.6666666666666666, \"#35b779\"], [0.7777777777777778, \"#6ece58\"], [0.8888888888888888, \"#b5de2b\"], [1.0, \"#fde725\"]], \"locationmode\": \"country names\", \"locations\": [\"Finland\", \"Denmark\", \"Norway\", \"Iceland\", \"Netherlands\", \"Switzerland\", \"Sweden\", \"New Zealand\", \"Canada\", \"Austria\", \"Australia\", \"Costa Rica\", \"Israel\", \"Luxembourg\", \"United Kingdom\", \"Ireland\", \"Germany\", \"Belgium\", \"United States\", \"Czech Republic\", \"United Arab Emirates\", \"Malta\", \"Mexico\", \"France\", \"Taiwan\", \"Chile\", \"Guatemala\", \"Saudi Arabia\", \"Qatar\", \"Spain\", \"Panama\", \"Brazil\", \"Uruguay\", \"Singapore\", \"El Salvador\", \"Italy\", \"Bahrain\", \"Slovakia\", \"Trinidad & Tobago\", \"Poland\", \"Uzbekistan\", \"Lithuania\", \"Colombia\", \"Slovenia\", \"Nicaragua\", \"Kosovo\", \"Argentina\", \"Romania\", \"Cyprus\", \"Ecuador\", \"Kuwait\", \"Thailand\", \"Latvia\", \"South Korea\", \"Estonia\", \"Jamaica\", \"Mauritius\", \"Japan\", \"Honduras\", \"Kazakhstan\", \"Bolivia\", \"Hungary\", \"Paraguay\", \"Northern Cyprus\", \"Peru\", \"Portugal\", \"Pakistan\", \"Russia\", \"Philippines\", \"Serbia\", \"Moldova\", \"Libya\", \"Montenegro\", \"Tajikistan\", \"Croatia\", \"Hong Kong\", \"Dominican Republic\", \"Bosnia and Herzegovina\", \"Turkey\", \"Malaysia\", \"Belarus\", \"Greece\", \"Mongolia\", \"North Macedonia\", \"Nigeria\", \"Kyrgyzstan\", \"Turkmenistan\", \"Algeria\", \"Morocco\", \"Azerbaijan\", \"Lebanon\", \"Indonesia\", \"China\", \"Vietnam\", \"Bhutan\", \"Cameroon\", \"Bulgaria\", \"Ghana\", \"Ivory Coast\", \"Nepal\", \"Jordan\", \"Benin\", \"Congo (Brazzaville)\", \"Gabon\", \"Laos\", \"South Africa\", \"Albania\", \"Venezuela\", \"Cambodia\", \"Palestinian Territories\", \"Senegal\", \"Somalia\", \"Namibia\", \"Niger\", \"Burkina Faso\", \"Armenia\", \"Iran\", \"Guinea\", \"Georgia\", \"Gambia\", \"Kenya\", \"Mauritania\", \"Mozambique\", \"Tunisia\", \"Bangladesh\", \"Iraq\", \"Congo (Kinshasa)\", \"Mali\", \"Sierra Leone\", \"Sri Lanka\", \"Myanmar\", \"Chad\", \"Ukraine\", \"Ethiopia\", \"Swaziland\", \"Uganda\", \"Egypt\", \"Zambia\", \"Togo\", \"India\", \"Liberia\", \"Comoros\", \"Madagascar\", \"Lesotho\", \"Burundi\", \"Zimbabwe\", \"Haiti\", \"Botswana\", \"Syria\", \"Malawi\", \"Yemen\", \"Rwanda\", \"Tanzania\", \"Afghanistan\", \"Central African Republic\", \"South Sudan\"], \"marker\": {\"line\": {\"width\": 1}}, \"text\": [\"Finland\", \"Denmark\", \"Norway\", \"Iceland\", \"Netherlands\", \"Switzerland\", \"Sweden\", \"New Zealand\", \"Canada\", \"Austria\", \"Australia\", \"Costa Rica\", \"Israel\", \"Luxembourg\", \"United Kingdom\", \"Ireland\", \"Germany\", \"Belgium\", \"United States\", \"Czech Republic\", \"United Arab Emirates\", \"Malta\", \"Mexico\", \"France\", \"Taiwan\", \"Chile\", \"Guatemala\", \"Saudi Arabia\", \"Qatar\", \"Spain\", \"Panama\", \"Brazil\", \"Uruguay\", \"Singapore\", \"El Salvador\", \"Italy\", \"Bahrain\", \"Slovakia\", \"Trinidad & Tobago\", \"Poland\", \"Uzbekistan\", \"Lithuania\", \"Colombia\", \"Slovenia\", \"Nicaragua\", \"Kosovo\", \"Argentina\", \"Romania\", \"Cyprus\", \"Ecuador\", \"Kuwait\", \"Thailand\", \"Latvia\", \"South Korea\", \"Estonia\", \"Jamaica\", \"Mauritius\", \"Japan\", \"Honduras\", \"Kazakhstan\", \"Bolivia\", \"Hungary\", \"Paraguay\", \"Northern Cyprus\", \"Peru\", \"Portugal\", \"Pakistan\", \"Russia\", \"Philippines\", \"Serbia\", \"Moldova\", \"Libya\", \"Montenegro\", \"Tajikistan\", \"Croatia\", \"Hong Kong\", \"Dominican Republic\", \"Bosnia and Herzegovina\", \"Turkey\", \"Malaysia\", \"Belarus\", \"Greece\", \"Mongolia\", \"North Macedonia\", \"Nigeria\", \"Kyrgyzstan\", \"Turkmenistan\", \"Algeria\", \"Morocco\", \"Azerbaijan\", \"Lebanon\", \"Indonesia\", \"China\", \"Vietnam\", \"Bhutan\", \"Cameroon\", \"Bulgaria\", \"Ghana\", \"Ivory Coast\", \"Nepal\", \"Jordan\", \"Benin\", \"Congo (Brazzaville)\", \"Gabon\", \"Laos\", \"South Africa\", \"Albania\", \"Venezuela\", \"Cambodia\", \"Palestinian Territories\", \"Senegal\", \"Somalia\", \"Namibia\", \"Niger\", \"Burkina Faso\", \"Armenia\", \"Iran\", \"Guinea\", \"Georgia\", \"Gambia\", \"Kenya\", \"Mauritania\", \"Mozambique\", \"Tunisia\", \"Bangladesh\", \"Iraq\", \"Congo (Kinshasa)\", \"Mali\", \"Sierra Leone\", \"Sri Lanka\", \"Myanmar\", \"Chad\", \"Ukraine\", \"Ethiopia\", \"Swaziland\", \"Uganda\", \"Egypt\", \"Zambia\", \"Togo\", \"India\", \"Liberia\", \"Comoros\", \"Madagascar\", \"Lesotho\", \"Burundi\", \"Zimbabwe\", \"Haiti\", \"Botswana\", \"Syria\", \"Malawi\", \"Yemen\", \"Rwanda\", \"Tanzania\", \"Afghanistan\", \"Central African Republic\", \"South Sudan\"], \"type\": \"choropleth\", \"z\": [7.769, 7.6, 7.553999999999999, 7.494, 7.4879999999999995, 7.48, 7.343, 7.307, 7.278, 7.246, 7.228, 7.167000000000001, 7.138999999999999, 7.09, 7.053999999999999, 7.021, 6.985, 6.922999999999999, 6.892, 6.852, 6.825, 6.726, 6.595, 6.5920000000000005, 6.446000000000001, 6.444, 6.436, 6.375, 6.374, 6.354, 6.321000000000001, 6.3, 6.292999999999999, 6.2620000000000005, 6.252999999999999, 6.223, 6.199, 6.1979999999999995, 6.192, 6.182, 6.1739999999999995, 6.149, 6.125, 6.117999999999999, 6.105, 6.1, 6.086, 6.07, 6.046, 6.028, 6.021, 6.007999999999999, 5.94, 5.895, 5.893, 5.89, 5.888, 5.886, 5.86, 5.809, 5.779, 5.757999999999999, 5.742999999999999, 5.718, 5.697, 5.693, 5.653, 5.648, 5.631, 5.603, 5.529, 5.525, 5.523, 5.4670000000000005, 5.432, 5.43, 5.425, 5.386, 5.372999999999999, 5.3389999999999995, 5.3229999999999995, 5.287000000000001, 5.285, 5.274, 5.265, 5.261, 5.247000000000001, 5.211, 5.207999999999999, 5.207999999999999, 5.197, 5.192, 5.191, 5.175, 5.082, 5.044, 5.011, 4.996, 4.944, 4.913, 4.906000000000001, 4.883, 4.812, 4.7989999999999995, 4.796, 4.7219999999999995, 4.718999999999999, 4.707, 4.7, 4.696000000000001, 4.681, 4.668, 4.638999999999999, 4.628, 4.587, 4.559, 4.548, 4.534, 4.519, 4.516, 4.5089999999999995, 4.49, 4.466, 4.461, 4.456, 4.437, 4.418, 4.39, 4.374, 4.3660000000000005, 4.36, 4.35, 4.332, 4.2860000000000005, 4.212, 4.189, 4.166, 4.107, 4.085, 4.015, 3.975, 3.9730000000000003, 3.9330000000000003, 3.802, 3.775, 3.6630000000000003, 3.597, 3.488, 3.4619999999999997, 3.41, 3.38, 3.3339999999999996, 3.2310000000000003, 3.2030000000000003, 3.083, 2.853]}],                        {\"geo\": {\"projection\": {\"type\": \"mercator\"}, \"showlakes\": true, \"showocean\": false, \"showrivers\": true}, \"template\": {\"data\": {\"bar\": [{\"error_x\": {\"color\": \"#2a3f5f\"}, \"error_y\": {\"color\": \"#2a3f5f\"}, \"marker\": {\"line\": {\"color\": \"#E5ECF6\", \"width\": 0.5}}, \"type\": \"bar\"}], \"barpolar\": [{\"marker\": {\"line\": {\"color\": \"#E5ECF6\", \"width\": 0.5}}, \"type\": \"barpolar\"}], \"carpet\": [{\"aaxis\": {\"endlinecolor\": \"#2a3f5f\", \"gridcolor\": \"white\", \"linecolor\": \"white\", \"minorgridcolor\": \"white\", \"startlinecolor\": \"#2a3f5f\"}, \"baxis\": {\"endlinecolor\": \"#2a3f5f\", \"gridcolor\": \"white\", \"linecolor\": \"white\", \"minorgridcolor\": \"white\", \"startlinecolor\": \"#2a3f5f\"}, \"type\": \"carpet\"}], \"choropleth\": [{\"colorbar\": {\"outlinewidth\": 0, \"ticks\": \"\"}, \"type\": \"choropleth\"}], \"contour\": [{\"colorbar\": {\"outlinewidth\": 0, \"ticks\": \"\"}, \"colorscale\": [[0.0, \"#0d0887\"], [0.1111111111111111, \"#46039f\"], [0.2222222222222222, \"#7201a8\"], [0.3333333333333333, \"#9c179e\"], [0.4444444444444444, \"#bd3786\"], [0.5555555555555556, \"#d8576b\"], [0.6666666666666666, \"#ed7953\"], [0.7777777777777778, \"#fb9f3a\"], [0.8888888888888888, \"#fdca26\"], [1.0, \"#f0f921\"]], \"type\": \"contour\"}], \"contourcarpet\": [{\"colorbar\": {\"outlinewidth\": 0, \"ticks\": \"\"}, \"type\": \"contourcarpet\"}], \"heatmap\": [{\"colorbar\": {\"outlinewidth\": 0, \"ticks\": \"\"}, \"colorscale\": [[0.0, \"#0d0887\"], [0.1111111111111111, \"#46039f\"], [0.2222222222222222, \"#7201a8\"], [0.3333333333333333, \"#9c179e\"], [0.4444444444444444, \"#bd3786\"], [0.5555555555555556, \"#d8576b\"], [0.6666666666666666, \"#ed7953\"], [0.7777777777777778, \"#fb9f3a\"], [0.8888888888888888, \"#fdca26\"], [1.0, \"#f0f921\"]], \"type\": \"heatmap\"}], \"heatmapgl\": [{\"colorbar\": {\"outlinewidth\": 0, \"ticks\": \"\"}, \"colorscale\": [[0.0, \"#0d0887\"], [0.1111111111111111, \"#46039f\"], [0.2222222222222222, \"#7201a8\"], [0.3333333333333333, \"#9c179e\"], [0.4444444444444444, \"#bd3786\"], [0.5555555555555556, \"#d8576b\"], [0.6666666666666666, \"#ed7953\"], [0.7777777777777778, \"#fb9f3a\"], [0.8888888888888888, \"#fdca26\"], [1.0, \"#f0f921\"]], \"type\": \"heatmapgl\"}], \"histogram\": [{\"marker\": {\"colorbar\": {\"outlinewidth\": 0, \"ticks\": \"\"}}, \"type\": \"histogram\"}], \"histogram2d\": [{\"colorbar\": {\"outlinewidth\": 0, \"ticks\": \"\"}, \"colorscale\": [[0.0, \"#0d0887\"], [0.1111111111111111, \"#46039f\"], [0.2222222222222222, \"#7201a8\"], [0.3333333333333333, \"#9c179e\"], [0.4444444444444444, \"#bd3786\"], [0.5555555555555556, \"#d8576b\"], [0.6666666666666666, \"#ed7953\"], [0.7777777777777778, \"#fb9f3a\"], [0.8888888888888888, \"#fdca26\"], [1.0, \"#f0f921\"]], \"type\": \"histogram2d\"}], \"histogram2dcontour\": [{\"colorbar\": {\"outlinewidth\": 0, \"ticks\": \"\"}, \"colorscale\": [[0.0, \"#0d0887\"], [0.1111111111111111, \"#46039f\"], [0.2222222222222222, \"#7201a8\"], [0.3333333333333333, \"#9c179e\"], [0.4444444444444444, \"#bd3786\"], [0.5555555555555556, \"#d8576b\"], [0.6666666666666666, \"#ed7953\"], [0.7777777777777778, \"#fb9f3a\"], [0.8888888888888888, \"#fdca26\"], [1.0, \"#f0f921\"]], \"type\": \"histogram2dcontour\"}], \"mesh3d\": [{\"colorbar\": {\"outlinewidth\": 0, \"ticks\": \"\"}, \"type\": \"mesh3d\"}], \"parcoords\": [{\"line\": {\"colorbar\": {\"outlinewidth\": 0, \"ticks\": \"\"}}, \"type\": \"parcoords\"}], \"pie\": [{\"automargin\": true, \"type\": \"pie\"}], \"scatter\": [{\"marker\": {\"colorbar\": {\"outlinewidth\": 0, \"ticks\": \"\"}}, \"type\": \"scatter\"}], \"scatter3d\": [{\"line\": {\"colorbar\": {\"outlinewidth\": 0, \"ticks\": \"\"}}, \"marker\": {\"colorbar\": {\"outlinewidth\": 0, \"ticks\": \"\"}}, \"type\": \"scatter3d\"}], \"scattercarpet\": [{\"marker\": {\"colorbar\": {\"outlinewidth\": 0, \"ticks\": \"\"}}, \"type\": \"scattercarpet\"}], \"scattergeo\": [{\"marker\": {\"colorbar\": {\"outlinewidth\": 0, \"ticks\": \"\"}}, \"type\": \"scattergeo\"}], \"scattergl\": [{\"marker\": {\"colorbar\": {\"outlinewidth\": 0, \"ticks\": \"\"}}, \"type\": \"scattergl\"}], \"scattermapbox\": [{\"marker\": {\"colorbar\": {\"outlinewidth\": 0, \"ticks\": \"\"}}, \"type\": \"scattermapbox\"}], \"scatterpolar\": [{\"marker\": {\"colorbar\": {\"outlinewidth\": 0, \"ticks\": \"\"}}, \"type\": \"scatterpolar\"}], \"scatterpolargl\": [{\"marker\": {\"colorbar\": {\"outlinewidth\": 0, \"ticks\": \"\"}}, \"type\": \"scatterpolargl\"}], \"scatterternary\": [{\"marker\": {\"colorbar\": {\"outlinewidth\": 0, \"ticks\": \"\"}}, \"type\": \"scatterternary\"}], \"surface\": [{\"colorbar\": {\"outlinewidth\": 0, \"ticks\": \"\"}, \"colorscale\": [[0.0, \"#0d0887\"], [0.1111111111111111, \"#46039f\"], [0.2222222222222222, \"#7201a8\"], [0.3333333333333333, \"#9c179e\"], [0.4444444444444444, \"#bd3786\"], [0.5555555555555556, \"#d8576b\"], [0.6666666666666666, \"#ed7953\"], [0.7777777777777778, \"#fb9f3a\"], [0.8888888888888888, \"#fdca26\"], [1.0, \"#f0f921\"]], \"type\": \"surface\"}], \"table\": [{\"cells\": {\"fill\": {\"color\": \"#EBF0F8\"}, \"line\": {\"color\": \"white\"}}, \"header\": {\"fill\": {\"color\": \"#C8D4E3\"}, \"line\": {\"color\": \"white\"}}, \"type\": \"table\"}]}, \"layout\": {\"annotationdefaults\": {\"arrowcolor\": \"#2a3f5f\", \"arrowhead\": 0, \"arrowwidth\": 1}, \"autotypenumbers\": \"strict\", \"coloraxis\": {\"colorbar\": {\"outlinewidth\": 0, \"ticks\": \"\"}}, \"colorscale\": {\"diverging\": [[0, \"#8e0152\"], [0.1, \"#c51b7d\"], [0.2, \"#de77ae\"], [0.3, \"#f1b6da\"], [0.4, \"#fde0ef\"], [0.5, \"#f7f7f7\"], [0.6, \"#e6f5d0\"], [0.7, \"#b8e186\"], [0.8, \"#7fbc41\"], [0.9, \"#4d9221\"], [1, \"#276419\"]], \"sequential\": [[0.0, \"#0d0887\"], [0.1111111111111111, \"#46039f\"], [0.2222222222222222, \"#7201a8\"], [0.3333333333333333, \"#9c179e\"], [0.4444444444444444, \"#bd3786\"], [0.5555555555555556, \"#d8576b\"], [0.6666666666666666, \"#ed7953\"], [0.7777777777777778, \"#fb9f3a\"], [0.8888888888888888, \"#fdca26\"], [1.0, \"#f0f921\"]], \"sequentialminus\": [[0.0, \"#0d0887\"], [0.1111111111111111, \"#46039f\"], [0.2222222222222222, \"#7201a8\"], [0.3333333333333333, \"#9c179e\"], [0.4444444444444444, \"#bd3786\"], [0.5555555555555556, \"#d8576b\"], [0.6666666666666666, \"#ed7953\"], [0.7777777777777778, \"#fb9f3a\"], [0.8888888888888888, \"#fdca26\"], [1.0, \"#f0f921\"]]}, \"colorway\": [\"#636efa\", \"#EF553B\", \"#00cc96\", \"#ab63fa\", \"#FFA15A\", \"#19d3f3\", \"#FF6692\", \"#B6E880\", \"#FF97FF\", \"#FECB52\"], \"font\": {\"color\": \"#2a3f5f\"}, \"geo\": {\"bgcolor\": \"white\", \"lakecolor\": \"white\", \"landcolor\": \"#E5ECF6\", \"showlakes\": true, \"showland\": true, \"subunitcolor\": \"white\"}, \"hoverlabel\": {\"align\": \"left\"}, \"hovermode\": \"closest\", \"mapbox\": {\"style\": \"light\"}, \"paper_bgcolor\": \"white\", \"plot_bgcolor\": \"#E5ECF6\", \"polar\": {\"angularaxis\": {\"gridcolor\": \"white\", \"linecolor\": \"white\", \"ticks\": \"\"}, \"bgcolor\": \"#E5ECF6\", \"radialaxis\": {\"gridcolor\": \"white\", \"linecolor\": \"white\", \"ticks\": \"\"}}, \"scene\": {\"xaxis\": {\"backgroundcolor\": \"#E5ECF6\", \"gridcolor\": \"white\", \"gridwidth\": 2, \"linecolor\": \"white\", \"showbackground\": true, \"ticks\": \"\", \"zerolinecolor\": \"white\"}, \"yaxis\": {\"backgroundcolor\": \"#E5ECF6\", \"gridcolor\": \"white\", \"gridwidth\": 2, \"linecolor\": \"white\", \"showbackground\": true, \"ticks\": \"\", \"zerolinecolor\": \"white\"}, \"zaxis\": {\"backgroundcolor\": \"#E5ECF6\", \"gridcolor\": \"white\", \"gridwidth\": 2, \"linecolor\": \"white\", \"showbackground\": true, \"ticks\": \"\", \"zerolinecolor\": \"white\"}}, \"shapedefaults\": {\"line\": {\"color\": \"#2a3f5f\"}}, \"ternary\": {\"aaxis\": {\"gridcolor\": \"white\", \"linecolor\": \"white\", \"ticks\": \"\"}, \"baxis\": {\"gridcolor\": \"white\", \"linecolor\": \"white\", \"ticks\": \"\"}, \"bgcolor\": \"#E5ECF6\", \"caxis\": {\"gridcolor\": \"white\", \"linecolor\": \"white\", \"ticks\": \"\"}}, \"title\": {\"x\": 0.05}, \"xaxis\": {\"automargin\": true, \"gridcolor\": \"white\", \"linecolor\": \"white\", \"ticks\": \"\", \"title\": {\"standoff\": 15}, \"zerolinecolor\": \"white\", \"zerolinewidth\": 2}, \"yaxis\": {\"automargin\": true, \"gridcolor\": \"white\", \"linecolor\": \"white\", \"ticks\": \"\", \"title\": {\"standoff\": 15}, \"zerolinecolor\": \"white\", \"zerolinewidth\": 2}}}, \"title\": {\"text\": \"Mapa de felicidad\"}},                        {\"responsive\": true}                    ).then(function(){\n",
       "                            \n",
       "var gd = document.getElementById('14e97870-815f-4967-a56a-3c4a74fefbad');\n",
       "var x = new MutationObserver(function (mutations, observer) {{\n",
       "        var display = window.getComputedStyle(gd).display;\n",
       "        if (!display || display === 'none') {{\n",
       "            console.log([gd, 'removed!']);\n",
       "            Plotly.purge(gd);\n",
       "            observer.disconnect();\n",
       "        }}\n",
       "}});\n",
       "\n",
       "// Listen for the removal of the full notebook cells\n",
       "var notebookContainer = gd.closest('#notebook-container');\n",
       "if (notebookContainer) {{\n",
       "    x.observe(notebookContainer, {childList: true});\n",
       "}}\n",
       "\n",
       "// Listen for the clearing of the current output cell\n",
       "var outputEl = gd.closest('.output');\n",
       "if (outputEl) {{\n",
       "    x.observe(outputEl, {childList: true});\n",
       "}}\n",
       "\n",
       "                        })                };                });            </script>        </div>"
      ]
     },
     "metadata": {},
     "output_type": "display_data"
    }
   ],
   "source": [
    "choromap = go.Figure(data = [data],layout = layout)\n",
    "iplot(choromap,validate=False)"
   ]
  },
  {
   "cell_type": "markdown",
   "metadata": {},
   "source": [
    "Esta grafica nos sirve para ver de manera mas visual e interactiva cuáles son los países en el mundo con mayor, o menor felicidad. Mientras más azul/morado menos infeliz, y mientras mas verde/amarillo más feliz. A la vez nos permite, al poner nuestro cursor en el país deseado, ver su puntuación específica."
   ]
  },
  {
   "cell_type": "markdown",
   "metadata": {},
   "source": [
    "#### Top 10 países más felices"
   ]
  },
  {
   "cell_type": "code",
   "execution_count": 124,
   "metadata": {},
   "outputs": [
    {
     "data": {
      "text/html": [
       "<div>\n",
       "<style scoped>\n",
       "    .dataframe tbody tr th:only-of-type {\n",
       "        vertical-align: middle;\n",
       "    }\n",
       "\n",
       "    .dataframe tbody tr th {\n",
       "        vertical-align: top;\n",
       "    }\n",
       "\n",
       "    .dataframe thead th {\n",
       "        text-align: right;\n",
       "    }\n",
       "</style>\n",
       "<table border=\"1\" class=\"dataframe\">\n",
       "  <thead>\n",
       "    <tr style=\"text-align: right;\">\n",
       "      <th></th>\n",
       "      <th>País_o_Región</th>\n",
       "      <th>Puntuación</th>\n",
       "    </tr>\n",
       "  </thead>\n",
       "  <tbody>\n",
       "    <tr>\n",
       "      <th>0</th>\n",
       "      <td>Finland</td>\n",
       "      <td>7.769</td>\n",
       "    </tr>\n",
       "    <tr>\n",
       "      <th>1</th>\n",
       "      <td>Denmark</td>\n",
       "      <td>7.600</td>\n",
       "    </tr>\n",
       "    <tr>\n",
       "      <th>2</th>\n",
       "      <td>Norway</td>\n",
       "      <td>7.554</td>\n",
       "    </tr>\n",
       "    <tr>\n",
       "      <th>3</th>\n",
       "      <td>Iceland</td>\n",
       "      <td>7.494</td>\n",
       "    </tr>\n",
       "    <tr>\n",
       "      <th>4</th>\n",
       "      <td>Netherlands</td>\n",
       "      <td>7.488</td>\n",
       "    </tr>\n",
       "    <tr>\n",
       "      <th>5</th>\n",
       "      <td>Switzerland</td>\n",
       "      <td>7.480</td>\n",
       "    </tr>\n",
       "    <tr>\n",
       "      <th>6</th>\n",
       "      <td>Sweden</td>\n",
       "      <td>7.343</td>\n",
       "    </tr>\n",
       "    <tr>\n",
       "      <th>7</th>\n",
       "      <td>New Zealand</td>\n",
       "      <td>7.307</td>\n",
       "    </tr>\n",
       "    <tr>\n",
       "      <th>8</th>\n",
       "      <td>Canada</td>\n",
       "      <td>7.278</td>\n",
       "    </tr>\n",
       "    <tr>\n",
       "      <th>9</th>\n",
       "      <td>Austria</td>\n",
       "      <td>7.246</td>\n",
       "    </tr>\n",
       "  </tbody>\n",
       "</table>\n",
       "</div>"
      ],
      "text/plain": [
       "  País_o_Región  Puntuación\n",
       "0       Finland       7.769\n",
       "1       Denmark       7.600\n",
       "2        Norway       7.554\n",
       "3       Iceland       7.494\n",
       "4   Netherlands       7.488\n",
       "5   Switzerland       7.480\n",
       "6        Sweden       7.343\n",
       "7   New Zealand       7.307\n",
       "8        Canada       7.278\n",
       "9       Austria       7.246"
      ]
     },
     "execution_count": 124,
     "metadata": {},
     "output_type": "execute_result"
    }
   ],
   "source": [
    "happy_top10 = df.groupby('País_o_Región')['Puntuación'].max().sort_values(ascending=False).head(10).reset_index()\n",
    "happy_top10.columns = ['País_o_Región','Puntuación']\n",
    "happy_top10"
   ]
  },
  {
   "cell_type": "code",
   "execution_count": 126,
   "metadata": {
    "scrolled": true
   },
   "outputs": [
    {
     "data": {
      "text/plain": [
       "(0.0, 10.0)"
      ]
     },
     "execution_count": 126,
     "metadata": {},
     "output_type": "execute_result"
    },
    {
     "data": {
      "image/png": "[encoded data removed]",
      "text/plain": [
       "<Figure size 792x576 with 1 Axes>"
      ]
     },
     "metadata": {},
     "output_type": "display_data"
    }
   ],
   "source": [
    "plt.figure(figsize=(11,8))\n",
    "sns.barplot(y=happy_top10['País_o_Región'], x=happy_top10['Puntuación'], palette='twilight', orient='h')\n",
    "plt.title('Top 10 Países más felices', fontsize=15)\n",
    "plt.xlabel('Puntuación', fontsize=12)\n",
    "plt.ylabel('País_o_Región', fontsize=12)\n",
    "plt.xticks(fontsize=12)\n",
    "plt.yticks(fontsize=12)\n",
    "plt.xlim(0, 10)"
   ]
  },
  {
   "cell_type": "markdown",
   "metadata": {},
   "source": [
    "Como podemos ver en este top 10 de países más felices, todos los países dentro de él son países primer mundistas. Lo cual afirma que el PIB influye de manera directa en la felicidad de los países."
   ]
  },
  {
   "cell_type": "markdown",
   "metadata": {},
   "source": [
    "#### Top 10 países menos felices"
   ]
  },
  {
   "cell_type": "code",
   "execution_count": 127,
   "metadata": {},
   "outputs": [],
   "source": [
    "sad_top10 = df.groupby('País_o_Región')['Puntuación'].max().sort_values(ascending=False).tail(10).reset_index()\n",
    "sad_top10.columns = ['País_o_Región','Puntuación']"
   ]
  },
  {
   "cell_type": "code",
   "execution_count": 128,
   "metadata": {},
   "outputs": [
    {
     "data": {
      "text/html": [
       "<div>\n",
       "<style scoped>\n",
       "    .dataframe tbody tr th:only-of-type {\n",
       "        vertical-align: middle;\n",
       "    }\n",
       "\n",
       "    .dataframe tbody tr th {\n",
       "        vertical-align: top;\n",
       "    }\n",
       "\n",
       "    .dataframe thead th {\n",
       "        text-align: right;\n",
       "    }\n",
       "</style>\n",
       "<table border=\"1\" class=\"dataframe\">\n",
       "  <thead>\n",
       "    <tr style=\"text-align: right;\">\n",
       "      <th></th>\n",
       "      <th>País_o_Región</th>\n",
       "      <th>Puntuación</th>\n",
       "    </tr>\n",
       "  </thead>\n",
       "  <tbody>\n",
       "    <tr>\n",
       "      <th>9</th>\n",
       "      <td>South Sudan</td>\n",
       "      <td>2.853</td>\n",
       "    </tr>\n",
       "    <tr>\n",
       "      <th>8</th>\n",
       "      <td>Central African Republic</td>\n",
       "      <td>3.083</td>\n",
       "    </tr>\n",
       "    <tr>\n",
       "      <th>7</th>\n",
       "      <td>Afghanistan</td>\n",
       "      <td>3.203</td>\n",
       "    </tr>\n",
       "    <tr>\n",
       "      <th>6</th>\n",
       "      <td>Tanzania</td>\n",
       "      <td>3.231</td>\n",
       "    </tr>\n",
       "    <tr>\n",
       "      <th>5</th>\n",
       "      <td>Rwanda</td>\n",
       "      <td>3.334</td>\n",
       "    </tr>\n",
       "    <tr>\n",
       "      <th>4</th>\n",
       "      <td>Yemen</td>\n",
       "      <td>3.380</td>\n",
       "    </tr>\n",
       "    <tr>\n",
       "      <th>3</th>\n",
       "      <td>Malawi</td>\n",
       "      <td>3.410</td>\n",
       "    </tr>\n",
       "    <tr>\n",
       "      <th>2</th>\n",
       "      <td>Syria</td>\n",
       "      <td>3.462</td>\n",
       "    </tr>\n",
       "    <tr>\n",
       "      <th>1</th>\n",
       "      <td>Botswana</td>\n",
       "      <td>3.488</td>\n",
       "    </tr>\n",
       "    <tr>\n",
       "      <th>0</th>\n",
       "      <td>Haiti</td>\n",
       "      <td>3.597</td>\n",
       "    </tr>\n",
       "  </tbody>\n",
       "</table>\n",
       "</div>"
      ],
      "text/plain": [
       "              País_o_Región  Puntuación\n",
       "9               South Sudan       2.853\n",
       "8  Central African Republic       3.083\n",
       "7               Afghanistan       3.203\n",
       "6                  Tanzania       3.231\n",
       "5                    Rwanda       3.334\n",
       "4                     Yemen       3.380\n",
       "3                    Malawi       3.410\n",
       "2                     Syria       3.462\n",
       "1                  Botswana       3.488\n",
       "0                     Haiti       3.597"
      ]
     },
     "execution_count": 128,
     "metadata": {},
     "output_type": "execute_result"
    }
   ],
   "source": [
    "sad_top10.sort_values(by=['Puntuación'],inplace=True, ascending=True)\n",
    "sad_top10"
   ]
  },
  {
   "cell_type": "code",
   "execution_count": 129,
   "metadata": {},
   "outputs": [
    {
     "data": {
      "text/plain": [
       "(0.0, 10.0)"
      ]
     },
     "execution_count": 129,
     "metadata": {},
     "output_type": "execute_result"
    },
    {
     "data": {
      "image/png": "[encoded data removed]",
      "text/plain": [
       "<Figure size 792x576 with 1 Axes>"
      ]
     },
     "metadata": {},
     "output_type": "display_data"
    }
   ],
   "source": [
    "plt.figure(figsize=(11,8))\n",
    "sns.barplot(y=sad_top10['País_o_Región'], x=sad_top10['Puntuación'], palette='PuBu_r', orient='h')\n",
    "plt.title('Top 10 Países Menos Felices', fontsize=15)\n",
    "plt.xlabel('Puntuación', fontsize=12)\n",
    "plt.ylabel('País_o_Región', fontsize=12)\n",
    "plt.xticks(fontsize=12)\n",
    "plt.yticks(fontsize=12)\n",
    "plt.xlim(0, 10)"
   ]
  },
  {
   "cell_type": "markdown",
   "metadata": {},
   "source": [
    "Como podemos ver en este top 10 de países menos felices, todos los países dentro de él son países tercer mundistas. Debido a que uno de nuestros objetivos secundarios es poder establecer qué acciones puede ejercer un gobierno para tener una población más feliz, analizaremos a más profundida al top 10 de países menos felices, para ver si los factores que influyen más en la felicidad de éstos son los mismos que influyen en el top 10 de países más felices."
   ]
  },
  {
   "cell_type": "markdown",
   "metadata": {},
   "source": [
    "#### Análisis del top 10 países menos felices"
   ]
  },
  {
   "cell_type": "code",
   "execution_count": 130,
   "metadata": {},
   "outputs": [
    {
     "data": {
      "text/html": [
       "<div>\n",
       "<style scoped>\n",
       "    .dataframe tbody tr th:only-of-type {\n",
       "        vertical-align: middle;\n",
       "    }\n",
       "\n",
       "    .dataframe tbody tr th {\n",
       "        vertical-align: top;\n",
       "    }\n",
       "\n",
       "    .dataframe thead th {\n",
       "        text-align: right;\n",
       "    }\n",
       "</style>\n",
       "<table border=\"1\" class=\"dataframe\">\n",
       "  <thead>\n",
       "    <tr style=\"text-align: right;\">\n",
       "      <th></th>\n",
       "      <th>País_o_Región</th>\n",
       "      <th>Puntuación</th>\n",
       "      <th>PIB_per_Cápita</th>\n",
       "      <th>Apoyo_Social</th>\n",
       "      <th>Esperanza_de_Vida</th>\n",
       "      <th>Libertad</th>\n",
       "      <th>Generosidad</th>\n",
       "      <th>Ausencia_de_Corrupción</th>\n",
       "    </tr>\n",
       "  </thead>\n",
       "  <tbody>\n",
       "    <tr>\n",
       "      <th>146</th>\n",
       "      <td>Haiti</td>\n",
       "      <td>3.597</td>\n",
       "      <td>0.323</td>\n",
       "      <td>0.688</td>\n",
       "      <td>0.449</td>\n",
       "      <td>0.026</td>\n",
       "      <td>0.419</td>\n",
       "      <td>0.110</td>\n",
       "    </tr>\n",
       "    <tr>\n",
       "      <th>147</th>\n",
       "      <td>Botswana</td>\n",
       "      <td>3.488</td>\n",
       "      <td>1.041</td>\n",
       "      <td>1.145</td>\n",
       "      <td>0.538</td>\n",
       "      <td>0.455</td>\n",
       "      <td>0.025</td>\n",
       "      <td>0.100</td>\n",
       "    </tr>\n",
       "    <tr>\n",
       "      <th>148</th>\n",
       "      <td>Syria</td>\n",
       "      <td>3.462</td>\n",
       "      <td>0.619</td>\n",
       "      <td>0.378</td>\n",
       "      <td>0.440</td>\n",
       "      <td>0.013</td>\n",
       "      <td>0.331</td>\n",
       "      <td>0.141</td>\n",
       "    </tr>\n",
       "    <tr>\n",
       "      <th>149</th>\n",
       "      <td>Malawi</td>\n",
       "      <td>3.410</td>\n",
       "      <td>0.191</td>\n",
       "      <td>0.560</td>\n",
       "      <td>0.495</td>\n",
       "      <td>0.443</td>\n",
       "      <td>0.218</td>\n",
       "      <td>0.089</td>\n",
       "    </tr>\n",
       "    <tr>\n",
       "      <th>150</th>\n",
       "      <td>Yemen</td>\n",
       "      <td>3.380</td>\n",
       "      <td>0.287</td>\n",
       "      <td>1.163</td>\n",
       "      <td>0.463</td>\n",
       "      <td>0.143</td>\n",
       "      <td>0.108</td>\n",
       "      <td>0.077</td>\n",
       "    </tr>\n",
       "    <tr>\n",
       "      <th>151</th>\n",
       "      <td>Rwanda</td>\n",
       "      <td>3.334</td>\n",
       "      <td>0.359</td>\n",
       "      <td>0.711</td>\n",
       "      <td>0.614</td>\n",
       "      <td>0.555</td>\n",
       "      <td>0.217</td>\n",
       "      <td>0.411</td>\n",
       "    </tr>\n",
       "    <tr>\n",
       "      <th>152</th>\n",
       "      <td>Tanzania</td>\n",
       "      <td>3.231</td>\n",
       "      <td>0.476</td>\n",
       "      <td>0.885</td>\n",
       "      <td>0.499</td>\n",
       "      <td>0.417</td>\n",
       "      <td>0.276</td>\n",
       "      <td>0.147</td>\n",
       "    </tr>\n",
       "    <tr>\n",
       "      <th>153</th>\n",
       "      <td>Afghanistan</td>\n",
       "      <td>3.203</td>\n",
       "      <td>0.350</td>\n",
       "      <td>0.517</td>\n",
       "      <td>0.361</td>\n",
       "      <td>0.000</td>\n",
       "      <td>0.158</td>\n",
       "      <td>0.025</td>\n",
       "    </tr>\n",
       "    <tr>\n",
       "      <th>154</th>\n",
       "      <td>Central African Republic</td>\n",
       "      <td>3.083</td>\n",
       "      <td>0.026</td>\n",
       "      <td>0.000</td>\n",
       "      <td>0.105</td>\n",
       "      <td>0.225</td>\n",
       "      <td>0.235</td>\n",
       "      <td>0.035</td>\n",
       "    </tr>\n",
       "    <tr>\n",
       "      <th>155</th>\n",
       "      <td>South Sudan</td>\n",
       "      <td>2.853</td>\n",
       "      <td>0.306</td>\n",
       "      <td>0.575</td>\n",
       "      <td>0.295</td>\n",
       "      <td>0.010</td>\n",
       "      <td>0.202</td>\n",
       "      <td>0.091</td>\n",
       "    </tr>\n",
       "  </tbody>\n",
       "</table>\n",
       "</div>"
      ],
      "text/plain": [
       "                País_o_Región  Puntuación  PIB_per_Cápita  Apoyo_Social  \\\n",
       "146                     Haiti       3.597           0.323         0.688   \n",
       "147                  Botswana       3.488           1.041         1.145   \n",
       "148                     Syria       3.462           0.619         0.378   \n",
       "149                    Malawi       3.410           0.191         0.560   \n",
       "150                     Yemen       3.380           0.287         1.163   \n",
       "151                    Rwanda       3.334           0.359         0.711   \n",
       "152                  Tanzania       3.231           0.476         0.885   \n",
       "153               Afghanistan       3.203           0.350         0.517   \n",
       "154  Central African Republic       3.083           0.026         0.000   \n",
       "155               South Sudan       2.853           0.306         0.575   \n",
       "\n",
       "     Esperanza_de_Vida  Libertad  Generosidad  Ausencia_de_Corrupción  \n",
       "146              0.449     0.026        0.419                   0.110  \n",
       "147              0.538     0.455        0.025                   0.100  \n",
       "148              0.440     0.013        0.331                   0.141  \n",
       "149              0.495     0.443        0.218                   0.089  \n",
       "150              0.463     0.143        0.108                   0.077  \n",
       "151              0.614     0.555        0.217                   0.411  \n",
       "152              0.499     0.417        0.276                   0.147  \n",
       "153              0.361     0.000        0.158                   0.025  \n",
       "154              0.105     0.225        0.235                   0.035  \n",
       "155              0.295     0.010        0.202                   0.091  "
      ]
     },
     "execution_count": 130,
     "metadata": {},
     "output_type": "execute_result"
    }
   ],
   "source": [
    "top10_sad=df.iloc[146:]\n",
    "top10_sad=top10_sad.drop(top10_sad.columns[0], axis='columns')\n",
    "top10_sad"
   ]
  },
  {
   "cell_type": "code",
   "execution_count": 131,
   "metadata": {},
   "outputs": [
    {
     "data": {
      "text/html": [
       "<div>\n",
       "<style scoped>\n",
       "    .dataframe tbody tr th:only-of-type {\n",
       "        vertical-align: middle;\n",
       "    }\n",
       "\n",
       "    .dataframe tbody tr th {\n",
       "        vertical-align: top;\n",
       "    }\n",
       "\n",
       "    .dataframe thead th {\n",
       "        text-align: right;\n",
       "    }\n",
       "</style>\n",
       "<table border=\"1\" class=\"dataframe\">\n",
       "  <thead>\n",
       "    <tr style=\"text-align: right;\">\n",
       "      <th></th>\n",
       "      <th>Puntuación</th>\n",
       "      <th>PIB_per_Cápita</th>\n",
       "      <th>Apoyo_Social</th>\n",
       "      <th>Esperanza_de_Vida</th>\n",
       "      <th>Libertad</th>\n",
       "      <th>Generosidad</th>\n",
       "      <th>Ausencia_de_Corrupción</th>\n",
       "    </tr>\n",
       "  </thead>\n",
       "  <tbody>\n",
       "    <tr>\n",
       "      <th>Puntuación</th>\n",
       "      <td>1.000000</td>\n",
       "      <td>0.411473</td>\n",
       "      <td>0.384953</td>\n",
       "      <td>0.626671</td>\n",
       "      <td>0.191930</td>\n",
       "      <td>0.175229</td>\n",
       "      <td>0.179491</td>\n",
       "    </tr>\n",
       "    <tr>\n",
       "      <th>PIB_per_Cápita</th>\n",
       "      <td>0.411473</td>\n",
       "      <td>1.000000</td>\n",
       "      <td>0.565681</td>\n",
       "      <td>0.530665</td>\n",
       "      <td>0.207314</td>\n",
       "      <td>-0.363444</td>\n",
       "      <td>0.124056</td>\n",
       "    </tr>\n",
       "    <tr>\n",
       "      <th>Apoyo_Social</th>\n",
       "      <td>0.384953</td>\n",
       "      <td>0.565681</td>\n",
       "      <td>1.000000</td>\n",
       "      <td>0.714243</td>\n",
       "      <td>0.309085</td>\n",
       "      <td>-0.470983</td>\n",
       "      <td>0.171790</td>\n",
       "    </tr>\n",
       "    <tr>\n",
       "      <th>Esperanza_de_Vida</th>\n",
       "      <td>0.626671</td>\n",
       "      <td>0.530665</td>\n",
       "      <td>0.714243</td>\n",
       "      <td>1.000000</td>\n",
       "      <td>0.526710</td>\n",
       "      <td>-0.104546</td>\n",
       "      <td>0.628965</td>\n",
       "    </tr>\n",
       "    <tr>\n",
       "      <th>Libertad</th>\n",
       "      <td>0.191930</td>\n",
       "      <td>0.207314</td>\n",
       "      <td>0.309085</td>\n",
       "      <td>0.526710</td>\n",
       "      <td>1.000000</td>\n",
       "      <td>-0.327657</td>\n",
       "      <td>0.551589</td>\n",
       "    </tr>\n",
       "    <tr>\n",
       "      <th>Generosidad</th>\n",
       "      <td>0.175229</td>\n",
       "      <td>-0.363444</td>\n",
       "      <td>-0.470983</td>\n",
       "      <td>-0.104546</td>\n",
       "      <td>-0.327657</td>\n",
       "      <td>1.000000</td>\n",
       "      <td>0.138072</td>\n",
       "    </tr>\n",
       "    <tr>\n",
       "      <th>Ausencia_de_Corrupción</th>\n",
       "      <td>0.179491</td>\n",
       "      <td>0.124056</td>\n",
       "      <td>0.171790</td>\n",
       "      <td>0.628965</td>\n",
       "      <td>0.551589</td>\n",
       "      <td>0.138072</td>\n",
       "      <td>1.000000</td>\n",
       "    </tr>\n",
       "  </tbody>\n",
       "</table>\n",
       "</div>"
      ],
      "text/plain": [
       "                        Puntuación  PIB_per_Cápita  Apoyo_Social  \\\n",
       "Puntuación                1.000000        0.411473      0.384953   \n",
       "PIB_per_Cápita            0.411473        1.000000      0.565681   \n",
       "Apoyo_Social              0.384953        0.565681      1.000000   \n",
       "Esperanza_de_Vida         0.626671        0.530665      0.714243   \n",
       "Libertad                  0.191930        0.207314      0.309085   \n",
       "Generosidad               0.175229       -0.363444     -0.470983   \n",
       "Ausencia_de_Corrupción    0.179491        0.124056      0.171790   \n",
       "\n",
       "                        Esperanza_de_Vida  Libertad  Generosidad  \\\n",
       "Puntuación                       0.626671  0.191930     0.175229   \n",
       "PIB_per_Cápita                   0.530665  0.207314    -0.363444   \n",
       "Apoyo_Social                     0.714243  0.309085    -0.470983   \n",
       "Esperanza_de_Vida                1.000000  0.526710    -0.104546   \n",
       "Libertad                         0.526710  1.000000    -0.327657   \n",
       "Generosidad                     -0.104546 -0.327657     1.000000   \n",
       "Ausencia_de_Corrupción           0.628965  0.551589     0.138072   \n",
       "\n",
       "                        Ausencia_de_Corrupción  \n",
       "Puntuación                            0.179491  \n",
       "PIB_per_Cápita                        0.124056  \n",
       "Apoyo_Social                          0.171790  \n",
       "Esperanza_de_Vida                     0.628965  \n",
       "Libertad                              0.551589  \n",
       "Generosidad                           0.138072  \n",
       "Ausencia_de_Corrupción                1.000000  "
      ]
     },
     "execution_count": 131,
     "metadata": {},
     "output_type": "execute_result"
    }
   ],
   "source": [
    "top10sad_corr=top10_sad.corr()\n",
    "top10sad_corr"
   ]
  },
  {
   "cell_type": "code",
   "execution_count": 133,
   "metadata": {},
   "outputs": [
    {
     "data": {
      "text/html": [
       "<div>\n",
       "<style scoped>\n",
       "    .dataframe tbody tr th:only-of-type {\n",
       "        vertical-align: middle;\n",
       "    }\n",
       "\n",
       "    .dataframe tbody tr th {\n",
       "        vertical-align: top;\n",
       "    }\n",
       "\n",
       "    .dataframe thead th {\n",
       "        text-align: right;\n",
       "    }\n",
       "</style>\n",
       "<table border=\"1\" class=\"dataframe\">\n",
       "  <thead>\n",
       "    <tr style=\"text-align: right;\">\n",
       "      <th></th>\n",
       "      <th>Puntuación</th>\n",
       "      <th>PIB_per_Cápita</th>\n",
       "      <th>Apoyo_Social</th>\n",
       "      <th>Esperanza_de_Vida</th>\n",
       "      <th>Libertad</th>\n",
       "      <th>Generosidad</th>\n",
       "      <th>Ausencia_de_Corrupción</th>\n",
       "    </tr>\n",
       "  </thead>\n",
       "  <tbody>\n",
       "    <tr>\n",
       "      <th>Puntuación</th>\n",
       "      <td>1.0</td>\n",
       "      <td>0.411473</td>\n",
       "      <td>0.384953</td>\n",
       "      <td>0.626671</td>\n",
       "      <td>0.19193</td>\n",
       "      <td>0.175229</td>\n",
       "      <td>0.179491</td>\n",
       "    </tr>\n",
       "  </tbody>\n",
       "</table>\n",
       "</div>"
      ],
      "text/plain": [
       "            Puntuación  PIB_per_Cápita  Apoyo_Social  Esperanza_de_Vida  \\\n",
       "Puntuación         1.0        0.411473      0.384953           0.626671   \n",
       "\n",
       "            Libertad  Generosidad  Ausencia_de_Corrupción  \n",
       "Puntuación   0.19193     0.175229                0.179491  "
      ]
     },
     "execution_count": 133,
     "metadata": {},
     "output_type": "execute_result"
    }
   ],
   "source": [
    "top10sad_corr=top10sad_corr.drop(['PIB_per_Cápita'], axis=0)\n",
    "top10sad_corr=top10sad_corr.drop(['Apoyo_Social'], axis=0)\n",
    "top10sad_corr=top10sad_corr.drop(['Esperanza_de_Vida'], axis=0)\n",
    "top10sad_corr=top10sad_corr.drop(['Generosidad'], axis=0)\n",
    "top10sad_corr=top10sad_corr.drop(['Libertad'], axis=0)\n",
    "top10sad_corr=top10sad_corr.drop(['Ausencia_de_Corrupción'], axis=0)\n",
    "top10sad_corr"
   ]
  },
  {
   "cell_type": "code",
   "execution_count": 134,
   "metadata": {},
   "outputs": [
    {
     "data": {
      "image/png": "[encoded data removed]",
      "text/plain": [
       "<Figure size 1080x216 with 2 Axes>"
      ]
     },
     "metadata": {},
     "output_type": "display_data"
    }
   ],
   "source": [
    "f,ax=plt.subplots(figsize = (15,3))\n",
    "sns.set(font_scale=1.5)\n",
    "sns.heatmap(top10sad_corr,annot= True,linewidths=0.5,fmt = \".2f\",cmap=\"YlGnBu\",ax=ax)\n",
    "plt.xticks(rotation=90)\n",
    "plt.yticks(rotation=0)\n",
    "plt.title('Mapa de correlación')\n",
    "plt.savefig('graph.png')\n",
    "plt.show()"
   ]
  },
  {
   "cell_type": "markdown",
   "metadata": {},
   "source": [
    "De este gráfico podemos concluir que a diferencia del análisis general los países menos felices, al ser tercer mundistas con estructuras econónmicas inestables, no se ven mayormente influidos en su puntuación de felicidad  por el PIB. Y al identificar qué factor tiene más influencia y cuales menos, se pueden aportar sugerencias más factibles a la sociedad y gobierno para incrementar los niveles de felicidad. "
   ]
  }
 ],
 "metadata": {
  "kernelspec": {
   "display_name": "Python 3",
   "language": "python",
   "name": "python3"
  },
  "language_info": {
   "codemirror_mode": {
    "name": "ipython",
    "version": 3
   },
   "file_extension": ".py",
   "mimetype": "text/x-python",
   "name": "python",
   "nbconvert_exporter": "python",
   "pygments_lexer": "ipython3",
   "version": "3.8.5"
  }
 },
 "nbformat": 4,
 "nbformat_minor": 4
}
