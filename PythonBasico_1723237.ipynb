{
 "cells": [
  {
   "cell_type": "markdown",
   "metadata": {},
   "source": [
    "# Ejercicios Básicos Python\n",
    "\n",
    "Vanessa Stefanía Linares Núñez\n",
    "1723237\n",
    "\n",
    "### Ejercicio 1\n",
    "Realiza una variable con tu matrícula y realiza una secuencia de imprimir con tu nombre y tu matrícula concatenados:"
   ]
  },
  {
   "cell_type": "code",
   "execution_count": 1,
   "metadata": {},
   "outputs": [
    {
     "name": "stdout",
     "output_type": "stream",
     "text": [
      "Vanessa Stefanía Linares Núñez 1723237\n"
     ]
    }
   ],
   "source": [
    "Matricula=1723237\n",
    "Nombre=\"Vanessa Stefanía Linares Núñez\"\n",
    "\n",
    "print(Nombre, Matricula)"
   ]
  },
  {
   "cell_type": "markdown",
   "metadata": {},
   "source": [
    "### Ejercicio 2\n",
    "Pidiendo el input del usuarios pide dos números y crea una pequeña calculadora con los operadores básicos de suma, resta, multiplicación, división y exponente:"
   ]
  },
  {
   "cell_type": "code",
   "execution_count": 2,
   "metadata": {},
   "outputs": [
    {
     "name": "stdout",
     "output_type": "stream",
     "text": [
      "Ingrese el primer número: 4\n",
      "Ingrese el segundo número: 3\n",
      "El resultado de la suma de los numeros es:  7.0\n",
      "El resultado de la resta de los numeros es:  1.0\n",
      "El resultado de la multiplicación de los numeros es:  12.0\n",
      "El resultado de la división de los numeros es:  1.3333333333333333\n",
      "El resultado de elevar el primer numero al exponente del segundo es:  64.0\n"
     ]
    }
   ],
   "source": [
    "x=float(input(\"Ingrese el primer número: \"))\n",
    "y=float(input(\"Ingrese el segundo número: \"))\n",
    "\n",
    "Suma=x+y\n",
    "Resta=x-y\n",
    "Multiplicacion=x*y\n",
    "Division=x/y\n",
    "Exponente=x**y\n",
    "\n",
    "print(\"El resultado de la suma de los numeros es: \", Suma)\n",
    "print(\"El resultado de la resta de los numeros es: \", Resta)\n",
    "print(\"El resultado de la multiplicación de los numeros es: \", Multiplicacion)\n",
    "print(\"El resultado de la división de los numeros es: \", Division)\n",
    "print(\"El resultado de elevar el primer numero al exponente del segundo es: \", Exponente)"
   ]
  },
  {
   "cell_type": "markdown",
   "metadata": {},
   "source": [
    "### Ejercicio 3\n",
    "Con loop while o for, realiza una lista de 10 numeros múltiplos de 3, y después realiza una función de loop que sume todos los números dentro del arreglo."
   ]
  },
  {
   "cell_type": "code",
   "execution_count": 8,
   "metadata": {},
   "outputs": [
    {
     "name": "stdout",
     "output_type": "stream",
     "text": [
      "Primeros 10 numeros múltiplos de 3:\n",
      "3\n",
      "6\n",
      "9\n",
      "12\n",
      "15\n",
      "18\n",
      "21\n",
      "24\n",
      "27\n",
      "30\n",
      "\n",
      "El resultado de la suma de los primeros 10 multiplos de 3 es:  165\n"
     ]
    }
   ],
   "source": [
    "num=3\n",
    "suma=0\n",
    "print(\"Primeros 10 numeros múltiplos de 3:\")\n",
    "for i in range(1,11):\n",
    "    multiplo=i*num\n",
    "    print(multiplo)\n",
    "\n",
    "for i in range(1,11):\n",
    "    suma=suma+(i*num)\n",
    "    \n",
    "    \n",
    "print(\"\\nEl resultado de la suma de los primeros 10 multiplos de 3 es: \", suma)"
   ]
  },
  {
   "cell_type": "markdown",
   "metadata": {},
   "source": [
    "### Ejercicio 4\n",
    "* Con una función de if else, revisar si un número es par o es impar."
   ]
  },
  {
   "cell_type": "code",
   "execution_count": 2,
   "metadata": {},
   "outputs": [
    {
     "name": "stdout",
     "output_type": "stream",
     "text": [
      "Ingrese un numero: 0\n",
      "El numero es par\n"
     ]
    }
   ],
   "source": [
    "x=int(input(\"Ingrese un numero: \"))\n",
    "\n",
    "prueba=x%2\n",
    "\n",
    "if prueba==0:\n",
    "    print(\"El numero es par\")\n",
    "else:\n",
    "    print(\"El numero es impar\")\n"
   ]
  },
  {
   "cell_type": "markdown",
   "metadata": {},
   "source": [
    "* Con una función de if else, revisar si un número es primo o no."
   ]
  },
  {
   "cell_type": "code",
   "execution_count": 6,
   "metadata": {},
   "outputs": [
    {
     "name": "stdout",
     "output_type": "stream",
     "text": [
      "Ingrese un numero: 17\n",
      "El numero es primo\n"
     ]
    }
   ],
   "source": [
    "x=int(input(\"Ingrese un numero: \"))\n",
    "c=0\n",
    "\n",
    "for i in range(2,x):\n",
    "    if x%i==0:\n",
    "        c=+1\n",
    "if c>0:\n",
    "    print(\"El numero no es primo\")\n",
    "else:\n",
    "    print(\"El numero es primo\")"
   ]
  },
  {
   "cell_type": "markdown",
   "metadata": {},
   "source": [
    "### Ejercicio 5\n",
    "Utilizando diferentes clases en python, crea una calculadora con los operadores básicos de suma, resta, multiplicación, división, y exponente."
   ]
  },
  {
   "cell_type": "code",
   "execution_count": 3,
   "metadata": {},
   "outputs": [
    {
     "name": "stdout",
     "output_type": "stream",
     "text": [
      "Ingrese el primer número: 10\n",
      "Ingrese el segundo número: 30\n",
      "\n",
      "Menú:\n",
      "\n",
      "1. Sumar\n",
      "2. Restar\n",
      "3. Multiplicación\n",
      "4. División\n",
      "\n",
      "Ingrese su elección (1/2/3/4):3\n",
      "10 * 30 = 300\n"
     ]
    }
   ],
   "source": [
    "def add(x, y):\n",
    "   \"\"\"Suma\"\"\"\n",
    "\n",
    "   return x + y\n",
    "\n",
    "def subtract(x, y):\n",
    "   \"\"\"Resta\"\"\"\n",
    "\n",
    "   return x - y\n",
    "\n",
    "def multiply(x, y):\n",
    "   \"\"\"Multiplicación\"\"\"\n",
    "\n",
    "   return x * y\n",
    "\n",
    "def divide(x, y):\n",
    "   \"\"\"División\"\"\"\n",
    "\n",
    "   return x / y\n",
    "\n",
    "x1 = int(input(\"Ingrese el primer número: \"))\n",
    "x2 = int(input(\"Ingrese el segundo número: \"))\n",
    "\n",
    "print(\"\\nMenú:\")\n",
    "print(\"\\n1. Sumar\")\n",
    "print(\"2. Restar\")\n",
    "print(\"3. Multiplicación\")\n",
    "print(\"4. División\")\n",
    "\n",
    "choice = input(\"\\nIngrese su elección (1/2/3/4):\")\n",
    "\n",
    "if choice == '1':\n",
    "   print(x1,\"+\",x2,\"=\", add(x1,x2))\n",
    "\n",
    "elif choice == '2':\n",
    "   print(x1,\"-\",x2,\"=\", subtract(x1,x2))\n",
    "\n",
    "elif choice == '3':\n",
    "   print(x1,\"*\",x2,\"=\", multiply(x1,x2))\n",
    "\n",
    "elif choice == '4':\n",
    "   print(x1,\"/\",x2,\"=\", divide(x1,x2))\n",
    "else:\n",
    "   print(x1,\"^\",x2,\"=\",exp(x1,x2))"
   ]
  },
  {
   "cell_type": "markdown",
   "metadata": {},
   "source": [
    "### Ejercicios con Estructuras Básicas de Python\n",
    "\n",
    "#### Tuplas\n",
    "* Crear una variable flotante, integer, boleana y compleja e imprimir el tipo de variable que es."
   ]
  },
  {
   "cell_type": "code",
   "execution_count": 6,
   "metadata": {},
   "outputs": [
    {
     "name": "stdout",
     "output_type": "stream",
     "text": [
      "Tupla: (3.1416, 22, True, (2.1+7.8j))\n",
      "\n",
      " Tipos de variables en la tupla:  <class 'float'> <class 'int'> <class 'bool'> <class 'complex'>\n"
     ]
    }
   ],
   "source": [
    "w=3.1416\n",
    "x=22\n",
    "y=True\n",
    "z=2.1 + 7.8j\n",
    "\n",
    "tupla=(w,x,y,z)\n",
    "\n",
    "print(\"Tupla:\", tupla)\n",
    "\n",
    "print(\"\\n Tipos de variables en la tupla: \",type(w),type(x),type(y),type(z))"
   ]
  },
  {
   "cell_type": "markdown",
   "metadata": {},
   "source": [
    "* Crear una tupla con valores enteros imprimir el primer y ultimo valor."
   ]
  },
  {
   "cell_type": "code",
   "execution_count": 9,
   "metadata": {},
   "outputs": [
    {
     "name": "stdout",
     "output_type": "stream",
     "text": [
      "(1, 2, 3, 4, 5, 6, 7, 8, 9, 10)\n",
      "\n",
      "Primer valor:  1 \n",
      "Ultimo valor:  10\n"
     ]
    }
   ],
   "source": [
    "tupla=(1,2,3,4,5,6,7,8,9,10)\n",
    "print(tupla)\n",
    "\n",
    "print(\"\\nPrimer valor: \",tupla[0], \"\\nUltimo valor: \",tupla[len(tupla)-1])"
   ]
  },
  {
   "cell_type": "markdown",
   "metadata": {},
   "source": [
    "* Añadir 3 valores de string a la tupla."
   ]
  },
  {
   "cell_type": "code",
   "execution_count": 10,
   "metadata": {},
   "outputs": [
    {
     "name": "stdout",
     "output_type": "stream",
     "text": [
      "(1, 2, 3, 4, 5, 6, 7, 8, 9, 10, 'Nombre', 'Edad', 'Sexo')\n"
     ]
    }
   ],
   "source": [
    "nuevos=(\"Nombre\",\"Edad\",\"Sexo\")\n",
    "tupla2=tupla+nuevos\n",
    "\n",
    "print(tupla2)"
   ]
  },
  {
   "cell_type": "markdown",
   "metadata": {},
   "source": [
    "* Verificar si una variable existe dentro de la tupla."
   ]
  },
  {
   "cell_type": "code",
   "execution_count": 18,
   "metadata": {},
   "outputs": [
    {
     "name": "stdout",
     "output_type": "stream",
     "text": [
      "Ingrese la variable que desea verificar:67\n",
      "La variable  67  no se encuentra en la tupla\n"
     ]
    }
   ],
   "source": [
    "x = input(\"Ingrese la variable que desea verificar:\")\n",
    "\n",
    "respuesta=x in tupla2\n",
    "\n",
    "\n",
    "if respuesta==True:\n",
    "    print(\"La variable \",x,\" se encuentra en la tupla\")\n",
    "else:\n",
    "    print(\"La variable \",x,\" no se encuentra en la tupla\")"
   ]
  },
  {
   "cell_type": "markdown",
   "metadata": {},
   "source": [
    "#### Listas\n",
    "* Crear una lista con 40 elementos aleatorios enteros."
   ]
  },
  {
   "cell_type": "code",
   "execution_count": 50,
   "metadata": {},
   "outputs": [
    {
     "name": "stdout",
     "output_type": "stream",
     "text": [
      "[44, 33, 80, 55, 43, 74, 13, 45, 46, 56, 56, 72, 41, 27, 60, 50, 48, 36, 66, 41, 32, 40, 15, 99, 29, 65, 98, 92, 43, 27, 74, 86, 93, 52, 68, 52, 86, 7, 74, 73]\n"
     ]
    }
   ],
   "source": [
    "import random as r\n",
    "lista=[]\n",
    "for i in range(1,41):\n",
    "    lista.append(r.randint(0,100))\n",
    "print (lista)"
   ]
  },
  {
   "cell_type": "markdown",
   "metadata": {},
   "source": [
    "* Con una funcion (def) crear dos listas nuevas a partir de la lista creada por numeros aleatorios, en la cual en una esten los elementos pares, y en la otra los elementos impares."
   ]
  },
  {
   "cell_type": "code",
   "execution_count": 33,
   "metadata": {},
   "outputs": [
    {
     "name": "stdout",
     "output_type": "stream",
     "text": [
      "[94, 93, 52, 49, 64, 79, 77, 16, 85, 87, 85, 87, 35, 40, 20, 66, 96, 35, 75, 49, 98, 69, 85, 38, 99, 42, 31, 68, 16, 72, 8, 42, 4, 77, 43, 34, 42, 100, 4, 51, 3, 4, 9, 6, 1]\n",
      "\n",
      "Estos numeros pertenecen a la lista de numeros pares:  [0, 2, 4, 6, 8, 10, 12, 14, 16, 18, 20, 22, 24, 26, 28, 30, 32, 34, 36, 38, 40, 42, 44]\n",
      "\n",
      "Estos numeros pertenecen a la lista de números impares:  [1, 3, 5, 7, 9, 11, 13, 15, 17, 19, 21, 23, 25, 27, 29, 31, 33, 35, 37, 39, 41, 43]\n"
     ]
    }
   ],
   "source": [
    "print(\"Lista principal:\", lista)\n",
    "par=[]\n",
    "impar=[]\n",
    "def Clasificacion(lista):\n",
    "    for i in range(len(lista)):\n",
    "        comprobar=i%2\n",
    "        if comprobar==0:\n",
    "            elemento=i\n",
    "            par.append(elemento)\n",
    "        else:\n",
    "            elemento=i\n",
    "            impar.append(elemento)\n",
    "    print(\"\\nEstos numeros pertenecen a la lista de numeros pares: \", par)\n",
    "    print(\"\\nEstos numeros pertenecen a la lista de números impares: \", impar)\n",
    "\n",
    "Clasificacion(lista)"
   ]
  },
  {
   "cell_type": "markdown",
   "metadata": {},
   "source": [
    "* Crear dos variables con la longitud de ambas listas nuevas e imprimir las variables."
   ]
  },
  {
   "cell_type": "code",
   "execution_count": 34,
   "metadata": {},
   "outputs": [
    {
     "name": "stdout",
     "output_type": "stream",
     "text": [
      "Cantidad de numeros pares:  23 \n",
      "Cantidad numeros impares:  22\n"
     ]
    }
   ],
   "source": [
    "longpar=len(par)\n",
    "longimp=len(impar)\n",
    "\n",
    "print(\"Cantidad de numeros pares: \", longpar, \"\\nCantidad numeros impares: \", longimp)"
   ]
  },
  {
   "cell_type": "markdown",
   "metadata": {},
   "source": [
    "* Ordenar los elementos de la lista par de mayor a menor, y los de la lista impar de menor a mayor"
   ]
  },
  {
   "cell_type": "code",
   "execution_count": 40,
   "metadata": {
    "scrolled": true
   },
   "outputs": [
    {
     "name": "stdout",
     "output_type": "stream",
     "text": [
      "\n",
      "Lista datos pares en orden de mayor a menor:\n",
      " [44, 42, 40, 38, 36, 34, 32, 30, 28, 26, 24, 22, 20, 18, 16, 14, 12, 10, 8, 6, 4, 2, 0] \n",
      "Lista datos impares en orden de menor a mayor:\n",
      " [1, 3, 5, 7, 9, 11, 13, 15, 17, 19, 21, 23, 25, 27, 29, 31, 33, 35, 37, 39, 41, 43]\n"
     ]
    }
   ],
   "source": [
    "parordenados = sorted(par, reverse=True)\n",
    "imparordenados = sorted(impar)\n",
    "print(\"\\nLista datos pares en orden de mayor a menor:\\n\",parordenados,\"\\nLista datos impares en orden de menor a mayor:\\n\",imparordenados)"
   ]
  },
  {
   "cell_type": "markdown",
   "metadata": {},
   "source": [
    "* Utilizar al menos cuatro de las funciones de listas en python en la lista original de 40 elementos."
   ]
  },
  {
   "cell_type": "code",
   "execution_count": 51,
   "metadata": {},
   "outputs": [
    {
     "name": "stdout",
     "output_type": "stream",
     "text": [
      "Lista original:  [44, 33, 80, 55, 43, 74, 13, 45, 46, 56, 56, 72, 41, 27, 60, 50, 48, 36, 66, 41, 32, 40, 15, 99, 29, 65, 98, 92, 43, 27, 74, 86, 93, 52, 68, 52, 86, 7, 74, 73]\n",
      "\n",
      "\n",
      "1. Invertimos el orden de la lista: [73, 74, 7, 86, 52, 68, 52, 93, 86, 74, 27, 43, 92, 98, 65, 29, 99, 15, 40, 32, 41, 66, 36, 48, 50, 60, 27, 41, 72, 56, 56, 46, 45, 13, 74, 43, 55, 80, 33, 44]\n",
      "\n",
      "\n",
      "2. Agregamos un nuevo elemento:  [73, 74, 7, 86, 52, 68, 52, 93, 86, 74, 27, 43, 92, 98, 65, 29, 99, 15, 40, 32, 41, 66, 36, 48, 50, 60, 27, 41, 72, 56, 56, 46, 45, 13, 74, 43, 55, 80, 33, 44, 'Vanessa']\n",
      "\n",
      "\n",
      "3. Eliminamos el ultimo elemento de la lista: [73, 74, 7, 86, 52, 68, 52, 93, 86, 74, 27, 43, 92, 98, 65, 29, 99, 15, 40, 32, 41, 66, 36, 48, 50, 60, 27, 41, 72, 56, 56, 46, 45, 13, 74, 43, 55, 80, 33, 44]\n",
      "\n",
      "\n",
      "4. Ordenamos los elementos de la lista: [7, 13, 15, 27, 27, 29, 32, 33, 36, 40, 41, 41, 43, 43, 44, 45, 46, 48, 50, 52, 52, 55, 56, 56, 60, 65, 66, 68, 72, 73, 74, 74, 74, 80, 86, 86, 92, 93, 98, 99]\n"
     ]
    }
   ],
   "source": [
    "print(\"Lista original: \", lista)\n",
    "\n",
    "lista.reverse()\n",
    "print(\"\\n\\n1. Invertimos el orden de la lista:\",lista)\n",
    "\n",
    "lista.append(\"Vanessa\")\n",
    "print(\"\\n\\n2. Agregamos un nuevo elemento: \", lista)\n",
    "\n",
    "lista.pop()\n",
    "print(\"\\n\\n3. Eliminamos el ultimo elemento de la lista:\",lista)\n",
    "\n",
    "lista.sort()\n",
    "print(\"\\n\\n4. Ordenamos los elementos de la lista:\",lista)"
   ]
  },
  {
   "cell_type": "markdown",
   "metadata": {},
   "source": [
    "### Diccionarios\n",
    "* Crear un diccionario de 6 personas que conozcas con su primer nombre y su edad."
   ]
  },
  {
   "cell_type": "code",
   "execution_count": 1,
   "metadata": {},
   "outputs": [
    {
     "name": "stdout",
     "output_type": "stream",
     "text": [
      "{'Montserrat': 18, 'Brisa': 20, 'Liliana': 21, 'Victoria': 27, 'Nora': 22, 'Daniela': 26}\n"
     ]
    }
   ],
   "source": [
    "diccionario1={\"Montserrat\":18,\"Brisa\":20,\"Liliana\":21,\"Victoria\":27,\"Nora\":22,\"Daniela\":26}\n",
    "print(diccionario1)"
   ]
  },
  {
   "cell_type": "markdown",
   "metadata": {},
   "source": [
    "* Crear una lista con los valores de la edad y reacomodar la lista de menor a mayor valor."
   ]
  },
  {
   "cell_type": "code",
   "execution_count": 3,
   "metadata": {},
   "outputs": [
    {
     "name": "stdout",
     "output_type": "stream",
     "text": [
      "edades en orden:  [dict_values([18, 20, 21, 27, 22, 26])]\n"
     ]
    }
   ],
   "source": [
    "edades=[diccionario1.values()]\n",
    "edades.sort()\n",
    "print(\"edades en orden: \",edades)"
   ]
  },
  {
   "cell_type": "markdown",
   "metadata": {},
   "source": [
    "* Usando el diccionario y un loop, imprimir solo los nombres."
   ]
  },
  {
   "cell_type": "code",
   "execution_count": 8,
   "metadata": {},
   "outputs": [
    {
     "name": "stdout",
     "output_type": "stream",
     "text": [
      "Montserrat\n",
      "Brisa\n",
      "Liliana\n",
      "Victoria\n",
      "Nora\n",
      "Daniela\n"
     ]
    }
   ],
   "source": [
    "for i in diccionario1.keys():\n",
    "    print(i)"
   ]
  },
  {
   "cell_type": "markdown",
   "metadata": {},
   "source": [
    "* Añadir dos personas nuevas a tu diccionario, incluyendo edad."
   ]
  },
  {
   "cell_type": "code",
   "execution_count": 10,
   "metadata": {},
   "outputs": [
    {
     "name": "stdout",
     "output_type": "stream",
     "text": [
      "{'Montserrat': 18, 'Brisa': 20, 'Liliana': 21, 'Victoria': 27, 'Nora': 22, 'Daniela': 26, 'Elisa': 20, 'Ailyn': 21}\n"
     ]
    }
   ],
   "source": [
    "diccionario1[\"Elisa\"]=20\n",
    "diccionario1[\"Ailyn\"]=21\n",
    "print(diccionario1)"
   ]
  },
  {
   "cell_type": "markdown",
   "metadata": {},
   "source": [
    "### Sets\n",
    "* Crea un set con 100 numeros aleatorios enteros del 1 al 25."
   ]
  },
  {
   "cell_type": "code",
   "execution_count": 18,
   "metadata": {
    "scrolled": true
   },
   "outputs": [
    {
     "name": "stdout",
     "output_type": "stream",
     "text": [
      "{1, 2, 3, 4, 5, 6, 7, 8, 9, 10, 11, 12, 13, 14, 15, 16, 17, 18, 19, 20, 21, 22, 23, 24, 25}\n"
     ]
    }
   ],
   "source": [
    "import random as r\n",
    "\n",
    "set1=set()\n",
    "\n",
    "for i in range(1,101):\n",
    "    i=(r.randint(1,25))\n",
    "    set1.add(i)\n",
    "    \n",
    "print (set1)"
   ]
  },
  {
   "cell_type": "markdown",
   "metadata": {},
   "source": [
    "* Comprueba la longitud de tu set."
   ]
  },
  {
   "cell_type": "code",
   "execution_count": 20,
   "metadata": {},
   "outputs": [
    {
     "name": "stdout",
     "output_type": "stream",
     "text": [
      "La longitud del set creado es de:  25\n"
     ]
    }
   ],
   "source": [
    "longset=len(set1)\n",
    "print(\"La longitud del set creado es de: \", longset)"
   ]
  },
  {
   "cell_type": "markdown",
   "metadata": {},
   "source": [
    "* Crea una lista de 5 numeros aleatorios del 1 al 10 y comprueba si cada valor aparece en el set inicial."
   ]
  },
  {
   "cell_type": "code",
   "execution_count": 26,
   "metadata": {},
   "outputs": [
    {
     "name": "stdout",
     "output_type": "stream",
     "text": [
      "[6, 8, 6, 7, 10]\n",
      "\n",
      "El número: 6 se encuentra en el set\n",
      "\n",
      "El número: 8 se encuentra en el set\n",
      "\n",
      "El número: 6 se encuentra en el set\n",
      "\n",
      "El número: 7 se encuentra en el set\n",
      "\n",
      "El número: 10 se encuentra en el set\n"
     ]
    }
   ],
   "source": [
    "import random as r\n",
    "lista5=[]\n",
    "for i in range(1,6):\n",
    "    lista5.append(r.randint(1,10))\n",
    "print (lista5)\n",
    "\n",
    "for i in range(len(lista5)):\n",
    "    comprobar = lista5[i] in set1\n",
    "    if comprobar==True:\n",
    "        print(\"\\nEl número:\",lista5[i],\"se encuentra en el set\")\n",
    "    else:\n",
    "        print(\"\\nEl número:\",lista5[i],\"no se encuentra en el set\")"
   ]
  },
  {
   "cell_type": "code",
   "execution_count": null,
   "metadata": {},
   "outputs": [],
   "source": []
  }
 ],
 "metadata": {
  "kernelspec": {
   "display_name": "Python 3",
   "language": "python",
   "name": "python3"
  },
  "language_info": {
   "codemirror_mode": {
    "name": "ipython",
    "version": 3
   },
   "file_extension": ".py",
   "mimetype": "text/x-python",
   "name": "python",
   "nbconvert_exporter": "python",
   "pygments_lexer": "ipython3",
   "version": "3.8.5"
  }
 },
 "nbformat": 4,
 "nbformat_minor": 4
}
